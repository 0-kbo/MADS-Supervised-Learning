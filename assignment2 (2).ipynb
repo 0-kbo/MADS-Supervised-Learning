{
 "cells": [
  {
   "cell_type": "code",
   "execution_count": 1,
   "metadata": {
    "deletable": false,
    "editable": false,
    "nbgrader": {
     "checksum": "ad6923a92962cdba6be891fcf161e328",
     "grade": false,
     "grade_id": "cell-632b4c666041719a",
     "locked": true,
     "schema_version": 1,
     "solution": false
    }
   },
   "outputs": [],
   "source": [
    "version = \"REPLACE_PACKAGE_VERSION\""
   ]
  },
  {
   "cell_type": "markdown",
   "metadata": {
    "deletable": false,
    "editable": false,
    "nbgrader": {
     "checksum": "503ccfad87a43bb5242c435fdf6db99b",
     "grade": false,
     "grade_id": "cell-c712284a9739c04e",
     "locked": true,
     "schema_version": 1,
     "solution": false
    }
   },
   "source": [
    "# Assignment 2: Regression and Classification\n",
    "\n",
    "In this assignment we will build several regression and classification models and learn how model complexity relates to generalization performance. \n",
    "\n",
    "**Before starting Question 1, we recommend you read through *all* the questions in the assignment to get a better idea of the overall narrative for what we're exploring. The output of some questions is used in subsequent questions.**\n",
    "\n",
    "We're going to look at a very common situation in machine learning where:\n",
    "\n",
    "1. We assume the data are drawn from some true underlying 'gold standard' model that we *can't* observe directly, but that we would like to estimate, since if we know the 'true' model we could in theory do perfect prediction for future examples. In this assignment, the true model will be a polynomial function, but again, we can't observe the exact function.\n",
    "\n",
    "2. We have our actual dataset, which is drawn from a noisy version of the 'gold standard' function that we *do* observe directly.  This dataset is all we have, and we don't have any information about the added noise. As with any standard machine learning setup, we can divide this dataset into training and test sets: fitting the model using the training points, and evaluating the resulting model on the test points. There's code below that plots the training and test points explicitly.\n",
    "\n",
    "By using regression on #2, we try to get at #1. We'll see that by making different assumptions about the nature of the underlying true model, we will get different flavors of regression, which in turn will lead to better or worse fits -- according to how well our assumptions match the actual true model. The most basic assumption in Question 1 is that the true underlying model *is* a polynomial, but of unknown degree. Later, we assume not only that the true underlying model is a polynomial, but that it has sparse coefficients (Lasso) and you'll evaluate the model fit in that case as well.\n"
   ]
  },
  {
   "cell_type": "markdown",
   "metadata": {
    "deletable": false,
    "editable": false,
    "nbgrader": {
     "checksum": "f7c861e448c1eff0fdd020e6663b9786",
     "grade": false,
     "grade_id": "cell-8576d03826e617fe",
     "locked": true,
     "schema_version": 1,
     "solution": false
    }
   },
   "source": [
    "First, run the following cell to generate and plot the data points we will use throughout the assignment. \n",
    "\n",
    "The independent variable $x$ consists of $n$ evenly spaced points from the interval $[0, 20]$ and the dependent variable $y = 0.05x^3 - x^2 - x + C \\epsilon$ is a function of $x$ where $\\epsilon \\sim \\mathcal{N}(0, 1)$ represents the standard Gaussian noise and $C$ is a constant indicating the noise magnitude."
   ]
  },
  {
   "cell_type": "code",
   "execution_count": 2,
   "metadata": {
    "deletable": false,
    "editable": false,
    "nbgrader": {
     "checksum": "2f8328b1beafd734e276bc96a8225613",
     "grade": false,
     "grade_id": "cell-91d5b2819b0753ea",
     "locked": true,
     "schema_version": 1,
     "solution": false
    }
   },
   "outputs": [],
   "source": [
    "import numpy as np\n",
    "import pandas as pd\n",
    "from sklearn.model_selection import train_test_split\n",
    "import matplotlib.pyplot as plt\n",
    "%matplotlib inline\n",
    "\n",
    "# Suppress all warnings\n",
    "import warnings\n",
    "warnings.filterwarnings('ignore')\n",
    "\n",
    "np.random.seed(0)\n",
    "C = 15\n",
    "n = 60\n",
    "x = np.linspace(0, 20, n)  # x is drawn from a fixed range\n",
    "y = x ** 3 / 20 - x ** 2 - x + C * np.random.randn(n)\n",
    "\n",
    "x = x.reshape(-1, 1) # convert x and y from simple array to a 1-column matrix for input to sklearn regression \n",
    "y = y.reshape(-1, 1)\n",
    "\n",
    "# Create the training and testing sets and their targets\n",
    "X_train, X_test, y_train, y_test = train_test_split(x, y, random_state=0)"
   ]
  },
  {
   "cell_type": "code",
   "execution_count": 3,
   "metadata": {},
   "outputs": [
    {
     "data": {
      "image/png": "[encoded data removed]",
      "text/plain": [
       "<Figure size 432x288 with 1 Axes>"
      ]
     },
     "metadata": {
      "needs_background": "light"
     },
     "output_type": "display_data"
    }
   ],
   "source": [
    "def data_scatter():\n",
    "    \"\"\"\n",
    "    This function helps you visualize the training and testing sets by drawing a scatter plot of the data points.\n",
    "    Feel free to change the function in any ways to create your own visuals. \n",
    "    \"\"\"\n",
    "    plt.figure()\n",
    "    plt.scatter(X_train, y_train, label='training')\n",
    "    plt.scatter(X_test, y_test, label='testing')\n",
    "    plt.legend(loc=4)\n",
    "\n",
    "# Remember to comment it out before submitting the notebook\n",
    "data_scatter()"
   ]
  },
  {
   "cell_type": "markdown",
   "metadata": {
    "deletable": false,
    "editable": false,
    "nbgrader": {
     "checksum": "c0d79922df177af59c2bc2d10ef1b4bb",
     "grade": false,
     "grade_id": "cell-446072eaa6bc03b9",
     "locked": true,
     "schema_version": 1,
     "solution": false
    }
   },
   "source": [
    "### Question 1. (15 pts)\n",
    "\n",
    "From the data generation process we can see that a *linear* function is not sufficient to accurately describe the relationship between $x$ and $y$. What we really need is a *non-linear* regression that relates $x$ and $y$ in a non-linear way, which in our case we conjecture $y$ is a *polynomial* function of various degrees of $x$:\n",
    "\n",
    "\\begin{equation*}\n",
    "y = a_{0} + a_{1}x + a_{2}x^{2} + \\cdots + a_{n}x^{n}\n",
    "\\end{equation*}\n",
    "\n",
    "where $a_{0}, a_{1}, \\cdots, a_{n}$ are the coefficients we want to find. Notice that although $y$ is not a linear function of $x$, it is a linear function of powers of $x$. That means we can still run linear regression, but now on powers of $x$ instead of the zeroth and the first power of $x$ only. To do so we need to create these powers of $x$ out of the $x$ we have now, using the [`PolynomialFeatures`](https://scikit-learn.org/stable/modules/generated/sklearn.preprocessing.PolynomialFeatures.html#sklearn-preprocessing-polynomialfeatures) class from `scikit-learn`. (We recommend you take a look at the polynomial regression examples in the textbook's Section 4.5, Interactions and Polynomials.)\n",
    "\n",
    "For this question, proceed according to the following steps:\n",
    "\n",
    "1. Write the code that fits a polynomial [`LinearRegression`](https://scikit-learn.org/stable/modules/generated/sklearn.linear_model.LinearRegression.html) model on the *training data* `X_train` for degrees 1, 3, 7, 11 respectively. To do this, first use `PolynomialFeatures` to transform the original data so that it adds new additional polynomial features. Then, with this expanded feature set, fit a `LinearRegression` model for each degree choice (1, 3, 7, 11).\n",
    "\n",
    "\n",
    "2. For each polynomial regression model you fit in the previous step, use the model to generate predictions for that polynomial's values, using as input 100 evenly spaced points on the interval [0, 20]. To do this, as input to the model, use the expression `np.linspace(0, 20, 100).reshape(-1, 1)` which gives a 1-column matrix with the desired x-values. Remember that you will first need to call `fit_transform` on this input to add the polynomial feature columns, and then pass that into the predict method on your trained linear regression model. Then convert the 100-row, single-column prediction output to a single row, 100-column array using transpose(). Then stack all the 1-row arrays to create the final prediction output in a single numpy array, whose the first row stores the predictions from the model of degree 1, the second row stores the predictions from the model of degree 3 and so on, and return this numpy array as your result. Among other uses later, the autograder will use these predictions to verify the results of your trained model-fitting.\n",
    "\n",
    "*This function should return a numpy array of the shape `(4, 100)`.*"
   ]
  },
  {
   "cell_type": "code",
   "execution_count": 4,
   "metadata": {
    "deletable": false,
    "nbgrader": {
     "checksum": "7c052de3472d4e0fdfe5beddbca3d6cd",
     "grade": false,
     "grade_id": "cell-9d09d1cc72cefb51",
     "locked": false,
     "schema_version": 1,
     "solution": true
    }
   },
   "outputs": [],
   "source": [
    "from sklearn.linear_model import LinearRegression\n",
    "from sklearn.preprocessing import PolynomialFeatures\n",
    "\n",
    "degs = (1, 3, 7, 11)  # this will be useful later\n",
    "\n",
    "def answer_one():\n",
    "    preds = []\n",
    "    \n",
    "    \n",
    "    for count,i in enumerate(list(degs)):\n",
    "        \n",
    "        poly = PolynomialFeatures(degree=i)\n",
    "\n",
    "        X_poly = poly.fit_transform(X_train)\n",
    "\n",
    "        \n",
    "        linreg = LinearRegression().fit(X_poly, y_train)\n",
    "\n",
    "        pred = linreg.predict(poly.fit_transform(np.linspace(0, 20, 100).reshape(-1, 1)))\n",
    "        \n",
    "        preds.append(pred.T)\n",
    "        \n",
    "\n",
    "    # YOUR CODE HERE\n",
    "    #raise NotImplementedError()\n",
    "    preds = np.array(preds).reshape(4,100)\n",
    "    return preds"
   ]
  },
  {
   "cell_type": "code",
   "execution_count": 5,
   "metadata": {},
   "outputs": [
    {
     "data": {
      "text/plain": [
       "array([[-3.28884071e+00, -4.06020230e+00, -4.83156389e+00,\n",
       "        -5.60292547e+00, -6.37428706e+00, -7.14564865e+00,\n",
       "        -7.91701023e+00, -8.68837182e+00, -9.45973341e+00,\n",
       "        -1.02310950e+01, -1.10024566e+01, -1.17738182e+01,\n",
       "        -1.25451798e+01, -1.33165413e+01, -1.40879029e+01,\n",
       "        -1.48592645e+01, -1.56306261e+01, -1.64019877e+01,\n",
       "        -1.71733493e+01, -1.79447109e+01, -1.87160725e+01,\n",
       "        -1.94874340e+01, -2.02587956e+01, -2.10301572e+01,\n",
       "        -2.18015188e+01, -2.25728804e+01, -2.33442420e+01,\n",
       "        -2.41156036e+01, -2.48869651e+01, -2.56583267e+01,\n",
       "        -2.64296883e+01, -2.72010499e+01, -2.79724115e+01,\n",
       "        -2.87437731e+01, -2.95151347e+01, -3.02864963e+01,\n",
       "        -3.10578578e+01, -3.18292194e+01, -3.26005810e+01,\n",
       "        -3.33719426e+01, -3.41433042e+01, -3.49146658e+01,\n",
       "        -3.56860274e+01, -3.64573890e+01, -3.72287505e+01,\n",
       "        -3.80001121e+01, -3.87714737e+01, -3.95428353e+01,\n",
       "        -4.03141969e+01, -4.10855585e+01, -4.18569201e+01,\n",
       "        -4.26282817e+01, -4.33996432e+01, -4.41710048e+01,\n",
       "        -4.49423664e+01, -4.57137280e+01, -4.64850896e+01,\n",
       "        -4.72564512e+01, -4.80278128e+01, -4.87991743e+01,\n",
       "        -4.95705359e+01, -5.03418975e+01, -5.11132591e+01,\n",
       "        -5.18846207e+01, -5.26559823e+01, -5.34273439e+01,\n",
       "        -5.41987055e+01, -5.49700670e+01, -5.57414286e+01,\n",
       "        -5.65127902e+01, -5.72841518e+01, -5.80555134e+01,\n",
       "        -5.88268750e+01, -5.95982366e+01, -6.03695982e+01,\n",
       "        -6.11409597e+01, -6.19123213e+01, -6.26836829e+01,\n",
       "        -6.34550445e+01, -6.42264061e+01, -6.49977677e+01,\n",
       "        -6.57691293e+01, -6.65404908e+01, -6.73118524e+01,\n",
       "        -6.80832140e+01, -6.88545756e+01, -6.96259372e+01,\n",
       "        -7.03972988e+01, -7.11686604e+01, -7.19400220e+01,\n",
       "        -7.27113835e+01, -7.34827451e+01, -7.42541067e+01,\n",
       "        -7.50254683e+01, -7.57968299e+01, -7.65681915e+01,\n",
       "        -7.73395531e+01, -7.81109147e+01, -7.88822762e+01,\n",
       "        -7.96536378e+01],\n",
       "       [ 1.54387946e+01,  1.44118336e+01,  1.33309208e+01,\n",
       "         1.21981127e+01,  1.10154657e+01,  9.78503646e+00,\n",
       "         8.50888144e+00,  7.18905717e+00,  5.82762018e+00,\n",
       "         4.42662699e+00,  2.98813412e+00,  1.51419809e+00,\n",
       "         6.87543537e-03, -1.53177733e+00, -3.09970369e+00,\n",
       "        -4.69484710e+00, -6.31515106e+00, -7.95855904e+00,\n",
       "        -9.62301452e+00, -1.13064610e+01, -1.30068419e+01,\n",
       "        -1.47221007e+01, -1.64501809e+01, -1.81890260e+01,\n",
       "        -1.99365795e+01, -2.16907848e+01, -2.34495854e+01,\n",
       "        -2.52109248e+01, -2.69727465e+01, -2.87329939e+01,\n",
       "        -3.04896106e+01, -3.22405399e+01, -3.39837254e+01,\n",
       "        -3.57171106e+01, -3.74386389e+01, -3.91462538e+01,\n",
       "        -4.08378988e+01, -4.25115174e+01, -4.41650530e+01,\n",
       "        -4.57964491e+01, -4.74036492e+01, -4.89845967e+01,\n",
       "        -5.05372353e+01, -5.20595082e+01, -5.35493591e+01,\n",
       "        -5.50047313e+01, -5.64235684e+01, -5.78038138e+01,\n",
       "        -5.91434111e+01, -6.04403036e+01, -6.16924349e+01,\n",
       "        -6.28977484e+01, -6.40541877e+01, -6.51596961e+01,\n",
       "        -6.62122172e+01, -6.72096945e+01, -6.81500714e+01,\n",
       "        -6.90312914e+01, -6.98512980e+01, -7.06080347e+01,\n",
       "        -7.12994448e+01, -7.19234721e+01, -7.24780597e+01,\n",
       "        -7.29611514e+01, -7.33706905e+01, -7.37046206e+01,\n",
       "        -7.39608850e+01, -7.41374273e+01, -7.42321910e+01,\n",
       "        -7.42431195e+01, -7.41681563e+01, -7.40052449e+01,\n",
       "        -7.37523287e+01, -7.34073513e+01, -7.29682562e+01,\n",
       "        -7.24329867e+01, -7.17994864e+01, -7.10656987e+01,\n",
       "        -7.02295672e+01, -6.92890352e+01, -6.82420464e+01,\n",
       "        -6.70865441e+01, -6.58204718e+01, -6.44417731e+01,\n",
       "        -6.29483913e+01, -6.13382700e+01, -5.96093527e+01,\n",
       "        -5.77595828e+01, -5.57869037e+01, -5.36892591e+01,\n",
       "        -5.14645923e+01, -4.91108468e+01, -4.66259662e+01,\n",
       "        -4.40078938e+01, -4.12545732e+01, -3.83639478e+01,\n",
       "        -3.53339611e+01, -3.21625567e+01, -2.88476779e+01,\n",
       "        -2.53872682e+01],\n",
       "       [ 2.50819460e+01,  1.92911808e+01,  1.46657430e+01,\n",
       "         1.10010368e+01,  8.11630503e+00,  5.85280954e+00,\n",
       "         4.07209586e+00,  2.65433980e+00,  1.49677446e+00,\n",
       "         5.12195755e-01, -3.72455289e-01, -1.21743527e+00,\n",
       "        -2.07146801e+00, -2.97294271e+00, -3.95104260e+00,\n",
       "        -5.02680574e+00, -6.21411983e+00, -7.52065281e+00,\n",
       "        -8.94872105e+00, -1.04960969e+01, -1.21567574e+01,\n",
       "        -1.39215760e+01, -1.57789590e+01, -1.77154282e+01,\n",
       "        -1.97161529e+01, -2.17654305e+01, -2.38471205e+01,\n",
       "        -2.59450311e+01, -2.80432619e+01, -3.01265039e+01,\n",
       "        -3.21802981e+01, -3.41912556e+01, -3.61472397e+01,\n",
       "        -3.80375134e+01, -3.98528519e+01, -4.15856242e+01,\n",
       "        -4.32298441e+01, -4.47811928e+01, -4.62370152e+01,\n",
       "        -4.75962906e+01, -4.88595820e+01, -5.00289622e+01,\n",
       "        -5.11079220e+01, -5.21012604e+01, -5.30149583e+01,\n",
       "        -5.38560391e+01, -5.46324166e+01, -5.53527323e+01,\n",
       "        -5.60261844e+01, -5.66623496e+01, -5.72710003e+01,\n",
       "        -5.78619177e+01, -5.84447042e+01, -5.90285956e+01,\n",
       "        -5.96222761e+01, -6.02336957e+01, -6.08698951e+01,\n",
       "        -6.15368368e+01, -6.22392458e+01, -6.29804615e+01,\n",
       "        -6.37623025e+01, -6.45849453e+01, -6.54468207e+01,\n",
       "        -6.63445271e+01, -6.72727646e+01, -6.82242911e+01,\n",
       "        -6.91899008e+01, -7.01584295e+01, -7.11167862e+01,\n",
       "        -7.20500141e+01, -7.29413818e+01, -7.37725077e+01,\n",
       "        -7.45235185e+01, -7.51732435e+01, -7.56994476e+01,\n",
       "        -7.60791029e+01, -7.62887030e+01, -7.63046198e+01,\n",
       "        -7.61035055e+01, -7.56627420e+01, -7.49609381e+01,\n",
       "        -7.39784782e+01, -7.26981222e+01, -7.11056605e+01,\n",
       "        -6.91906238e+01, -6.69470515e+01, -6.43743185e+01,\n",
       "        -6.14780247e+01, -5.82709456e+01, -5.47740496e+01,\n",
       "        -5.10175802e+01, -4.70422080e+01, -4.29002522e+01,\n",
       "        -3.86569737e+01, -3.43919429e+01, -3.02004823e+01,\n",
       "        -2.61951868e+01, -2.25075230e+01, -1.92895094e+01,\n",
       "        -1.67154795e+01],\n",
       "       [ 1.98965069e+01,  2.20853952e+01,  2.12499562e+01,\n",
       "         1.85634111e+01,  1.49056150e+01,  1.09137230e+01,\n",
       "         7.02685925e+00,  3.52522557e+00,  5.64073240e-01,\n",
       "        -1.79704540e+00, -3.56934297e+00, -4.81379073e+00,\n",
       "        -5.62366470e+00, -6.11028449e+00, -6.39160162e+00,\n",
       "        -6.58331119e+00, -6.79217842e+00, -7.11129008e+00,\n",
       "        -7.61695877e+00, -8.36702736e+00, -9.40033900e+00,\n",
       "        -1.07371574e+01, -1.23803404e+01, -1.43170883e+01,\n",
       "        -1.65211060e+01, -1.89550372e+01, -2.15730432e+01,\n",
       "        -2.43234191e+01, -2.71511518e+01, -3.00003446e+01,\n",
       "        -3.28164413e+01, -3.55482037e+01, -3.81494021e+01,\n",
       "        -4.05801955e+01, -4.28081861e+01, -4.48091451e+01,\n",
       "        -4.65674129e+01, -4.80759876e+01, -4.93363222e+01,\n",
       "        -5.03578539e+01, -5.11572992e+01, -5.17577481e+01,\n",
       "        -5.21875948e+01, -5.24793466e+01, -5.26683501e+01,\n",
       "        -5.27914770e+01, -5.28858098e+01, -5.29873663e+01,\n",
       "        -5.31298995e+01, -5.33438069e+01, -5.36551789e+01,\n",
       "        -5.40850121e+01, -5.46486083e+01, -5.53551746e+01,\n",
       "        -5.62076351e+01, -5.72026569e+01, -5.83308903e+01,\n",
       "        -5.95774128e+01, -6.09223639e+01, -6.23417488e+01,\n",
       "        -6.38083871e+01, -6.52929717e+01, -6.67652043e+01,\n",
       "        -6.81949652e+01, -6.95534737e+01, -7.08143929e+01,\n",
       "        -7.19548303e+01, -7.29561872e+01, -7.38048100e+01,\n",
       "        -7.44923981e+01, -7.50161331e+01, -7.53784925e+01,\n",
       "        -7.55867286e+01, -7.56519976e+01, -7.55881415e+01,\n",
       "        -7.54101413e+01, -7.51322777e+01, -7.47660611e+01,\n",
       "        -7.43180156e+01, -7.37874349e+01, -7.31642581e+01,\n",
       "        -7.24272538e+01, -7.15427421e+01, -7.04641309e+01,\n",
       "        -6.91325947e+01, -6.74792808e+01, -6.54294901e+01,\n",
       "        -6.29093485e+01, -5.98555577e+01, -5.62288947e+01,\n",
       "        -5.20322181e+01, -4.73338299e+01, -4.22971450e+01,\n",
       "        -3.72177280e+01, -3.25688745e+01, -2.90570357e+01,\n",
       "        -2.76885220e+01, -2.98490597e+01, -3.73979279e+01,\n",
       "        -5.27785633e+01]])"
      ]
     },
     "execution_count": 5,
     "metadata": {},
     "output_type": "execute_result"
    }
   ],
   "source": [
    "test = answer_one()\n",
    "test"
   ]
  },
  {
   "cell_type": "code",
   "execution_count": 6,
   "metadata": {
    "deletable": false,
    "editable": false,
    "nbgrader": {
     "checksum": "3acfef4a177a374857b2a791d4fefc8e",
     "grade": true,
     "grade_id": "cell-958d3ffafa45b8c3",
     "locked": true,
     "points": 15,
     "schema_version": 1,
     "solution": false
    }
   },
   "outputs": [],
   "source": [
    "# Autograder tests\n",
    "\n",
    "stu_ans = answer_one()\n",
    "\n",
    "assert isinstance(stu_ans, np.ndarray), \"Q1: Your function should return a np.ndarray. \"\n",
    "assert stu_ans.shape == (4, 100), \"Q1: Your np.ndarray is of an incorrect shape. \"\n",
    "\n",
    "del stu_ans"
   ]
  },
  {
   "cell_type": "code",
   "execution_count": 7,
   "metadata": {},
   "outputs": [
    {
     "data": {
      "image/png": "[encoded data removed]",
      "text/plain": [
       "<Figure size 720x360 with 1 Axes>"
      ]
     },
     "metadata": {
      "needs_background": "light"
     },
     "output_type": "display_data"
    }
   ],
   "source": [
    "# Optional: Now let's plot the polynomials we learned from the training data, along with the training and the testing data\n",
    "# Feel free to change this function in any way to create your own visuals. \n",
    "degs = (1, 3, 7, 11)\n",
    "def plot_one(predictions):\n",
    "    plt.figure(figsize=(10, 5))\n",
    "    plt.plot(X_train, y_train, 'o', label='training', markersize=10)\n",
    "    plt.plot(X_test, y_test, 'o', label='testing', markersize=10)\n",
    "    for i, deg in enumerate(degs):\n",
    "        plt.plot(np.linspace(0, 20, 100), predictions[i], alpha=0.8, lw=2, label=f\"degree={deg}\")\n",
    "    plt.legend(loc=4)\n",
    "\n",
    "# Remember to comment it out before submitting the notebook\n",
    "plot_one(answer_one())"
   ]
  },
  {
   "cell_type": "markdown",
   "metadata": {
    "deletable": false,
    "editable": false,
    "nbgrader": {
     "checksum": "a09bcc1d374313578e5fe55e845c4018",
     "grade": false,
     "grade_id": "cell-e03d061d866f4ce3",
     "locked": true,
     "schema_version": 1,
     "solution": false
    }
   },
   "source": [
    "### Question 2. (15 pts)\n",
    "\n",
    "Write a function that fits a polynomial LinearRegression model on the training data `X_train` for degrees = (1, 3, 7, 11). For each model compute the $R^2$ (coefficient of determination) regression score on the training data as well as the the testing data. \n",
    "\n",
    "*This function should return a tuple of lists `(r2_train, r2_test)`, where `r2_train` contains the $R^{2}$ scores on the training data and the other contains the $R^{2}$ scores on the testing data.*"
   ]
  },
  {
   "cell_type": "code",
   "execution_count": 8,
   "metadata": {
    "deletable": false,
    "nbgrader": {
     "checksum": "145d4e58863633d45d2df0f2dde21030",
     "grade": false,
     "grade_id": "cell-8e79274985200c84",
     "locked": false,
     "schema_version": 1,
     "solution": true
    }
   },
   "outputs": [],
   "source": [
    "from sklearn.linear_model import LinearRegression\n",
    "from sklearn.preprocessing import PolynomialFeatures\n",
    "from sklearn.metrics import r2_score\n",
    "\n",
    "degs = (1, 3, 7, 11)  # this will be useful later\n",
    "\n",
    "def answer_two():\n",
    "    r2_train, r2_test = None, None\n",
    "    r2_train = []\n",
    "    r2_test = []\n",
    "    \n",
    "    for count,i in enumerate(list(degs)):\n",
    "\n",
    "#         poly = PolynomialFeatures(degree=i)\n",
    "\n",
    "#         X_poly = poly.fit_transform(X_train)\n",
    "\n",
    "        poly = PolynomialFeatures(degree=i)\n",
    "        X_poly = poly.fit_transform(x)\n",
    "        \n",
    "        X_train, X_test, y_train, y_test = train_test_split(X_poly, y,random_state=0)\n",
    "\n",
    "        \n",
    "#         linreg = LinearRegression().fit(X_poly, y_train)\n",
    "        \n",
    "\n",
    "\n",
    "\n",
    "        linreg = LinearRegression().fit(X_train, y_train)\n",
    "\n",
    "        r2_train.append(linreg.score(X_train, y_train))\n",
    "        r2_test.append(linreg.score(X_test, y_test))\n",
    "        \n",
    "        \n",
    "                \n",
    "\n",
    "\n",
    "\n",
    "        \n",
    "\n",
    "    # YOUR CODE HERE\n",
    "    #raise NotImplementedError()\n",
    "    \n",
    "    return r2_train, r2_test"
   ]
  },
  {
   "cell_type": "code",
   "execution_count": 9,
   "metadata": {},
   "outputs": [
    {
     "data": {
      "text/plain": [
       "([0.5146908335931619,\n",
       "  0.7716782246401617,\n",
       "  0.7905134245393333,\n",
       "  0.7966125425751247],\n",
       " [0.3660750337906714,\n",
       "  0.8666116934853962,\n",
       "  0.8114944985862202,\n",
       "  0.7889997868367259])"
      ]
     },
     "execution_count": 9,
     "metadata": {},
     "output_type": "execute_result"
    }
   ],
   "source": [
    "test2 = answer_two()\n",
    "test2"
   ]
  },
  {
   "cell_type": "code",
   "execution_count": 10,
   "metadata": {
    "deletable": false,
    "editable": false,
    "nbgrader": {
     "checksum": "8dbd4a4fe90c0c7f716543238ccce0a8",
     "grade": true,
     "grade_id": "cell-bb110de000a7e0bb",
     "locked": true,
     "points": 15,
     "schema_version": 1,
     "solution": false
    }
   },
   "outputs": [],
   "source": [
    "# Autograder tests\n",
    "\n",
    "stu_ans = answer_two()\n",
    "assert isinstance(stu_ans, tuple), \"Q2: Your function should return a tuple. \"\n",
    "assert len(stu_ans) == 2, \"Q2: The tuple returned should be of length 2. \"\n",
    "assert isinstance(stu_ans[0], list) and isinstance(stu_ans[1], list), \"Q2: The tuple should contain only lists. \"\n",
    "\n",
    "del stu_ans"
   ]
  },
  {
   "cell_type": "markdown",
   "metadata": {
    "deletable": false,
    "editable": false,
    "nbgrader": {
     "checksum": "6544a15666a7659b5ae65b0aadda0cc3",
     "grade": false,
     "grade_id": "cell-5fd99b5e42526782",
     "locked": true,
     "schema_version": 1,
     "solution": false
    }
   },
   "source": [
    "### Question 3. (10 pts)  Using k-NN regression\n",
    "\n",
    "Fit a k-NN regression model with the training data and return the $R^{2}$ value on the testing data. Use the default hyper-parameters. \n",
    "\n",
    "*This function should return a single `float` number.*"
   ]
  },
  {
   "cell_type": "code",
   "execution_count": 11,
   "metadata": {
    "deletable": false,
    "nbgrader": {
     "checksum": "c90445fe3250946def610189b93b21ef",
     "grade": false,
     "grade_id": "cell-b972f6f246770ec7",
     "locked": false,
     "schema_version": 1,
     "solution": true
    }
   },
   "outputs": [],
   "source": [
    "from sklearn.linear_model import LinearRegression\n",
    "from sklearn.neighbors import KNeighborsRegressor\n",
    "\n",
    "def answer_three():\n",
    "    r2 = None\n",
    "\n",
    "    # YOUR CODE HERE\n",
    "    #raise NotImplementedError()\n",
    "\n",
    "    knnreg = KNeighborsRegressor().fit(X_train,y_train)\n",
    "    \n",
    "    r2 = knnreg.score(X_test,y_test)\n",
    "    \n",
    "    return r2"
   ]
  },
  {
   "cell_type": "code",
   "execution_count": 12,
   "metadata": {
    "deletable": false,
    "editable": false,
    "nbgrader": {
     "checksum": "8af9ac0b42ead2f1b0845d8d9330f658",
     "grade": true,
     "grade_id": "cell-8011dc023a29b90f",
     "locked": true,
     "points": 10,
     "schema_version": 1,
     "solution": false
    }
   },
   "outputs": [],
   "source": [
    "# Autograder tests\n",
    "\n",
    "stu_ans = answer_three()\n",
    "\n",
    "assert isinstance(stu_ans, float), \"Q3: Your function should return a single float number. \"\n",
    "\n",
    "del stu_ans"
   ]
  },
  {
   "cell_type": "markdown",
   "metadata": {
    "deletable": false,
    "editable": false,
    "nbgrader": {
     "checksum": "202803a58351a9296cf4807dbcdac53d",
     "grade": false,
     "grade_id": "cell-3084a88cc1b74788",
     "locked": true,
     "schema_version": 1,
     "solution": false
    }
   },
   "source": [
    "### Question 4a.  (5 pts)\n",
    "\n",
    "Based on the $R^2$ scores from Question 2, which degree of the polynomial causes the model to be\n",
    " - underfitting; \n",
    " - overfitting; or\n",
    " - achieving good generalisation performance? \n",
    "\n",
    "Hint: Try to plot the degrees of the polynomial against the $R^2$ scores to visualise their relationship. \n",
    "\n",
    "Your function should return a 3-tuple with the degree values in this order: (Underfitting, Overfitting, Good_Generalization)\n",
    "Some answers may have more than one value that will be accepted as correct."
   ]
  },
  {
   "cell_type": "code",
   "execution_count": 13,
   "metadata": {},
   "outputs": [
    {
     "data": {
      "image/png": "[encoded data removed]",
      "text/plain": [
       "<Figure size 720x360 with 1 Axes>"
      ]
     },
     "metadata": {
      "needs_background": "light"
     },
     "output_type": "display_data"
    }
   ],
   "source": [
    "# def plot_one(predictions):\n",
    "#     plt.figure(figsize=(10, 5))\n",
    "#     plt.plot(list(degs), answer_two()[0],alpha = .8, label='r2_train', lw=2)\n",
    "#     plt.plot(list(degs), answer_two()[1],alpha = .8, label='r2_test', lw=2)\n",
    "#     plt.legend(loc=4)\n",
    "    \n",
    "def hint():\n",
    "    plt.figure(figsize=(10, 5))\n",
    "    plt.plot(list(degs), answer_two()[0],alpha = .8, label='r2_train', lw=2)\n",
    "    plt.plot(list(degs), answer_two()[1],alpha = .8, label='r2_test', lw=2)\n",
    "    plt.legend(loc=4)\n",
    "    \n",
    "hint()"
   ]
  },
  {
   "cell_type": "code",
   "execution_count": 14,
   "metadata": {
    "deletable": false,
    "nbgrader": {
     "checksum": "bdcca59271a93a5178d1acdb1b229c7a",
     "grade": false,
     "grade_id": "cell-cc7057f082f79066",
     "locked": false,
     "schema_version": 1,
     "solution": true
    }
   },
   "outputs": [],
   "source": [
    "def answer_four_a():\n",
    "    result = None\n",
    "    # YOUR CODE HERE\n",
    "    #raise NotImplementedError()\n",
    "    result = (1,11,3)\n",
    "    return result"
   ]
  },
  {
   "cell_type": "code",
   "execution_count": 15,
   "metadata": {
    "deletable": false,
    "editable": false,
    "nbgrader": {
     "checksum": "8729cf95552c338dd31343efc723dcf2",
     "grade": true,
     "grade_id": "cell-cf6a4c6412dbde3a",
     "locked": true,
     "points": 5,
     "schema_version": 1,
     "solution": false
    }
   },
   "outputs": [],
   "source": [
    "# Autograder tests\n",
    "\n",
    "stu_ans = answer_four_a()\n",
    "\n",
    "assert isinstance(stu_ans, tuple), \"Q4a: You should return a tuple.\"\n",
    "assert len(stu_ans) == 3, \"Q4a: Your tuple must have 3 elements.\"\n",
    "\n",
    "del stu_ans"
   ]
  },
  {
   "cell_type": "markdown",
   "metadata": {
    "deletable": false,
    "editable": false,
    "nbgrader": {
     "checksum": "b534fe4a189218aba5c624d9c9a97429",
     "grade": false,
     "grade_id": "cell-8081bbbdc902974d",
     "locked": true,
     "schema_version": 1,
     "solution": false
    }
   },
   "source": [
    "### Question 4b. (15 pts)  Using Lasso regression for polynomial fitting\n",
    "\n",
    "Training models on high-degree polynomial features can result in overly complex models that overfit the training data, so we often add some regularization to constrain the model complexity as we saw in Ridge and Lasso regression.\n",
    "\n",
    "For this question, you will be comparing the non-regularized `LinearRegression` model (with the default hyper-parameters) that you built for Question 1, to a new regularised Lasso Regression model (with hyper-parameters `alpha=0.01`, `max_iter=10000`) --- on polynomial features of varying degrees, so you can see the difference with the polynomials that were fit in Question 1.\n",
    "\n",
    "Your function should return predictions for the regularized model using the same method and in the same format that you used for question 1: namely, you generate predictions for 100 evenly spaced points on the interval [0, 20] and store the results in a numpy array, whose the first row stores the predictions from the model of degree 1, the second row stores the predictions from the model of degree 3 and so on.\n",
    "\n",
    "*This function should return a numpy array of the shape `(4, 100)`.*\n",
    "\n",
    "Once you have successful generated these predictions, plot them using the provided function and compare with the polynomial fit in Question 1. What do you observe?  What explains what you observe?  (These questions are for your insight only - they are not graded.)"
   ]
  },
  {
   "cell_type": "code",
   "execution_count": 16,
   "metadata": {
    "deletable": false,
    "nbgrader": {
     "checksum": "5bd0a5cef3b75c0ac67a06024cd8b4ee",
     "grade": false,
     "grade_id": "cell-7c7af5bcec432359",
     "locked": false,
     "schema_version": 1,
     "solution": true
    }
   },
   "outputs": [],
   "source": [
    "from sklearn.preprocessing import PolynomialFeatures\n",
    "from sklearn.linear_model import Lasso, LinearRegression\n",
    "from sklearn.metrics import r2_score\n",
    "# from sklearn.preprocessing import MinMaxScaler\n",
    "# scaler = MinMaxScaler()\n",
    "\n",
    "degs = (1, 3, 7, 11)\n",
    "def answer_four_b():\n",
    "    preds = []\n",
    "    \n",
    "    \n",
    "    for count,i in enumerate(list(degs)):\n",
    "        \n",
    "        poly = PolynomialFeatures(degree=i)\n",
    "        X_poly = poly.fit_transform(X_train)\n",
    "\n",
    "        \n",
    "#         X_train_scaled = scaler.fit_transform(X_train)\n",
    "#         X_test_scaled = scaler.transform(X_test)\n",
    "        \n",
    "        linlasso = Lasso(alpha=0.01, max_iter=10000).fit(X_poly, y_train)\n",
    "\n",
    "        pred = linlasso.predict(poly.fit_transform(np.linspace(0, 20, 100).reshape(-1, 1)))\n",
    "        \n",
    "        \n",
    "        preds.append(pred.T)\n",
    "        \n",
    "    preds = np.array(preds).reshape(4,100)\n",
    "    return preds\n",
    "        "
   ]
  },
  {
   "cell_type": "code",
   "execution_count": 17,
   "metadata": {
    "deletable": false,
    "editable": false,
    "nbgrader": {
     "checksum": "3452e6f3ab6857c3b912325f1712f61c",
     "grade": true,
     "grade_id": "cell-10a959987014433e",
     "locked": true,
     "points": 15,
     "schema_version": 1,
     "solution": false
    }
   },
   "outputs": [],
   "source": [
    "# Autograder tests\n",
    "\n",
    "stu_ans = answer_four_b()\n",
    "\n",
    "assert isinstance(stu_ans, np.ndarray), \"Q4b: Your function should return a np.ndarray. \"\n",
    "assert stu_ans.shape == (4, 100), \"Q4b: Your np.ndarray is of an incorrect shape: it should be (4, 100).\"\n",
    "\n",
    "del stu_ans"
   ]
  },
  {
   "cell_type": "code",
   "execution_count": 18,
   "metadata": {},
   "outputs": [
    {
     "data": {
      "image/png": "[encoded data removed]",
      "text/plain": [
       "<Figure size 720x360 with 1 Axes>"
      ]
     },
     "metadata": {
      "needs_background": "light"
     },
     "output_type": "display_data"
    }
   ],
   "source": [
    "# Remember to comment it out before submitting the notebook\n",
    "plot_one(answer_four_b())"
   ]
  },
  {
   "cell_type": "markdown",
   "metadata": {
    "deletable": false,
    "editable": false,
    "nbgrader": {
     "checksum": "0d1799e597988de793be7beea41edc4c",
     "grade": false,
     "grade_id": "cell-03113efdb52e1650",
     "locked": true,
     "schema_version": 1,
     "solution": false
    }
   },
   "source": [
    "### Question 4c. (20 points) \n",
    "\n",
    "Return the $R^2$ score for each of the Lasso models above relative to a new 'gold standard' test set generated from the true underlying cubic polynomial model without noise.  Compute this test set by computing the true noise-less underlying function `t^3/20 - t^2 - t` for each of 100 evenly spaced points on the interval [0, 20] (the same as you've used in previous questions).  For each degree (1, 3, 7, 11), compute the $R^2$ score using this 'gold standard' test set and return the polynomial degree that gives the best fit on the 'gold standard' test set. Your function should return an integer, which should be in the set (1,3,7,11).  Does the optimal polynomial degree match the true polynomial degree?"
   ]
  },
  {
   "cell_type": "code",
   "execution_count": 58,
   "metadata": {
    "deletable": false,
    "nbgrader": {
     "checksum": "27ff46367f96dd4d49946db6a217b955",
     "grade": false,
     "grade_id": "cell-b5394665d22fb09e",
     "locked": false,
     "schema_version": 1,
     "solution": true
    }
   },
   "outputs": [],
   "source": [
    "degs = (1, 3, 7, 11)\n",
    "\n",
    "# x_new = np.linspace(0, 20, 100)  # x is drawn from a fixed range\n",
    "# y_new = x_new ** (3 / 20) - (x_new ** 2) - x_new \n",
    "\n",
    "# x_new = x_new.reshape(-1, 1) # convert x and y from simple array to a 1-column matrix for input to sklearn regression \n",
    "# y_new = y_new.reshape(-1, 1)\n",
    "\n",
    "# # Create the training and testing sets and their targets\n",
    "# # X_train, X_test, y_train, y_test = train_test_split(x_new, y_new, random_state=0)\n",
    "\n",
    "\n",
    "\n",
    "\n",
    "def answer_four_c():\n",
    "    r2 = []\n",
    "    \n",
    "    \n",
    "    X_test_gold = np.linspace(0, 20, 100)\n",
    "    y_test_gold = X_test_gold ** (3 / 20) - (X_test_gold ** 2) - X_test_gold \n",
    "\n",
    "    X_test_gold = X_test_gold.reshape(-1,1)\n",
    "    y_test_gold = y_test_gold.reshape(-1,1)\n",
    "\n",
    "    X_train, X_test, y_train, y_test = train_test_split(X_test_gold, y_test_gold,random_state=0)\n",
    "\n",
    "    \n",
    "    for count,i in enumerate(list(degs)):\n",
    "        \n",
    "        poly = PolynomialFeatures(degree=i)\n",
    "        X_poly = poly.fit_transform(X_train)\n",
    "        X_poly_gold = poly.fit_transform(X_test)\n",
    "        \n",
    "        \n",
    "        linlasso = Lasso(alpha=0.01, max_iter=10000).fit(X_poly, y_train)\n",
    "        \n",
    "        r2.append([linlasso.score(X_poly_gold, y_test),i])\n",
    "    \n",
    "    # YOUR CODE HERE\n",
    "    #raise NotImplementedError()\n",
    "    r2 = sorted(r2, key=lambda x: x[0])\n",
    "    best_deg = r2[-1][1]\n",
    "    \n",
    "    return best_deg\n",
    "\n"
   ]
  },
  {
   "cell_type": "code",
   "execution_count": 59,
   "metadata": {},
   "outputs": [
    {
     "data": {
      "text/plain": [
       "3"
      ]
     },
     "execution_count": 59,
     "metadata": {},
     "output_type": "execute_result"
    }
   ],
   "source": [
    "# tester = answer_four_c()\n",
    "# tester"
   ]
  },
  {
   "cell_type": "code",
   "execution_count": 60,
   "metadata": {
    "deletable": false,
    "editable": false,
    "nbgrader": {
     "checksum": "54c1d6e197e2fcfe26b8e87f77005bda",
     "grade": true,
     "grade_id": "cell-21481cca025d7fe5",
     "locked": true,
     "points": 20,
     "schema_version": 1,
     "solution": false
    }
   },
   "outputs": [],
   "source": [
    "stu_ans = answer_four_c()\n",
    "\n",
    "assert isinstance(stu_ans, int), \"Q4c: Your function should return an integer. \"\n",
    "del stu_ans"
   ]
  },
  {
   "cell_type": "markdown",
   "metadata": {
    "deletable": false,
    "editable": false,
    "nbgrader": {
     "checksum": "8e66ff692c2dddfe19890a5e13bb4d17",
     "grade": false,
     "grade_id": "cell-722b305be5dccb0f",
     "locked": true,
     "schema_version": 1,
     "solution": false
    }
   },
   "source": [
    "### Question 5.  (15 points)  Applying a SVC classifier to the Wisconsin dataset\n",
    "\n",
    "We're going to return to the Wisconsin breast cancer dataset to apply our newly learned Support Vector classifier  (`SVC`).\n",
    "\n",
    "For this question, we're also going to use the `validation_curve` function in `sklearn.model_selection` to determine training and test scores for the Support Vector Classifier with varying parameter values.\n",
    "\n",
    "Create an `SVC` with default parameters (i.e. `kernel='rbf', C=1`) and `random_state=0`. Recall that the kernel width of the RBF kernel is controlled using the `gamma` parameter.  Explore the effect of `gamma` on classifier accuracy by using the `validation_curve` function to find the training and test scores for 6 values of `gamma` from `1e-7` to `1e-2` (i.e. `np.logspace(-7, -2, 6, endpoint=True)`, or more precisely `[1.e-07, 1.e-06, 1.e-05, 1.e-04, 1.e-03, 1.e-02]`).\n",
    "\n",
    "For each level of `gamma`, set parameter `cv=3` so that `validation_curve` will fit 3 models on different subsets of the data, returning two 6x3 (6 levels of gamma x 3 fits per level) arrays of the scores for the training and test sets. \n",
    "\n",
    "Find the mean score across the three models for each level of `gamma` for both arrays, creating two arrays of length 6, and return a tuple with the two arrays.\n",
    "\n",
    "e.g.\n",
    "\n",
    "if one of your array of scores is\n",
    "\n",
    "    array([[ 0.5,  0.4,  0.6],\n",
    "           [ 0.7,  0.8,  0.7],\n",
    "           [ 0.9,  0.8,  0.8],\n",
    "           [ 0.8,  0.7,  0.8],\n",
    "           [ 0.7,  0.6,  0.6],\n",
    "           [ 0.4,  0.6,  0.5]])\n",
    "       \n",
    "it should then become\n",
    "\n",
    "    array([ 0.5,  0.73333333,  0.83333333,  0.76666667,  0.63333333, 0.5])\n",
    "\n",
    "*This function should return a tuple of numpy arrays `(training_scores, test_scores)` where each array in the tuple has shape `(6,)`.*"
   ]
  },
  {
   "cell_type": "markdown",
   "metadata": {
    "deletable": false,
    "editable": false,
    "nbgrader": {
     "checksum": "838b4866fe383101ed0281ea47e0e7ea",
     "grade": false,
     "grade_id": "cell-2244bfa56f789d18",
     "locked": true,
     "schema_version": 1,
     "solution": false
    }
   },
   "source": [
    "Here's the preliminary code to load the dataset."
   ]
  },
  {
   "cell_type": "code",
   "execution_count": null,
   "metadata": {},
   "outputs": [],
   "source": [
    "from sklearn.datasets import load_breast_cancer\n",
    "\n",
    "\n",
    "cancer = load_breast_cancer()\n",
    "\n",
    "data      = np.hstack([cancer[\"data\"], cancer[\"target\"].reshape(-1, 1)])\n",
    "col_names = np.hstack([cancer[\"feature_names\"], [\"target\"]])\n",
    "cancer_df = pd.DataFrame(data, columns=col_names)\n",
    "\n",
    "X_cancer, y_cancer = cancer_df.iloc[:, :-1], cancer_df.iloc[:, -1]"
   ]
  },
  {
   "cell_type": "code",
   "execution_count": null,
   "metadata": {
    "deletable": false,
    "nbgrader": {
     "checksum": "b578c2d48685bbfaaf72cb3f01671b98",
     "grade": false,
     "grade_id": "cell-db02af58c38d0e3a",
     "locked": false,
     "schema_version": 1,
     "solution": true
    }
   },
   "outputs": [],
   "source": [
    "def answer_five():\n",
    "    from sklearn.svm import SVC\n",
    "    from sklearn.model_selection import validation_curve\n",
    "    \n",
    "    results = None\n",
    "    \n",
    "    X_train, X_test, y_train, y_test = train_test_split(X_cancer, y_cancer,\n",
    "                                                   random_state = 0)\n",
    "    \n",
    "    X = X_cancer.values\n",
    "    y = y_cancer.values\n",
    "\n",
    "    clf = SVC(kernel='rbf', C=1).fit(X_train, y_train)\n",
    "    \n",
    "    param_range = np.logspace(-7, -2, 6, endpoint=True)\n",
    "    train_scores, test_scores = validation_curve(SVC(), X, y,\n",
    "                                            param_name='gamma',\n",
    "                                            param_range=param_range, cv=3)\n",
    "    \n",
    "    results =  train_scores.mean(axis = 1), test_scores.mean(axis = 1)\n",
    "    \n",
    "    # YOUR CODE HERE\n",
    "    #raise NotImplementedError()\n",
    "    return results"
   ]
  },
  {
   "cell_type": "code",
   "execution_count": null,
   "metadata": {},
   "outputs": [],
   "source": [
    "tester = answer_five()\n",
    "tester"
   ]
  },
  {
   "cell_type": "code",
   "execution_count": null,
   "metadata": {
    "deletable": false,
    "editable": false,
    "nbgrader": {
     "checksum": "3c06757c79c12d62ca7e7f980268a722",
     "grade": true,
     "grade_id": "cell-f2ab9c6d6d2058a7",
     "locked": true,
     "points": 15,
     "schema_version": 1,
     "solution": false
    }
   },
   "outputs": [],
   "source": [
    "# Autograder tests\n",
    "\n",
    "stu_ans = answer_five()\n",
    "\n",
    "assert isinstance(stu_ans, tuple), \"Q5: You should return a tuple (of two arrays)\"\n",
    "assert stu_ans[0].shape == (6, ), \"Q5: Please check the shape of your first returned array: it should be (6,).\"\n",
    "assert stu_ans[1].shape == (6, ), \"Q5: Please check the shape of your second returned array: it should be (6,).\"\n",
    "\n",
    "del stu_ans"
   ]
  },
  {
   "cell_type": "markdown",
   "metadata": {
    "deletable": false,
    "editable": false,
    "nbgrader": {
     "checksum": "132b7c452783bb9911c0872ad51da817",
     "grade": false,
     "grade_id": "cell-1e38c3be0e8cd2a4",
     "locked": true,
     "schema_version": 1,
     "solution": false
    }
   },
   "source": [
    "### Question 6. (5 points)  \n",
    "\n",
    "Based on the scores from the previous question, what gamma value corresponds to a model that is underfitting? What gamma value corresponds to a model that is overfitting? What choice of gamma would provide a model with good generalization performance on this dataset?\n",
    "\n",
    "(Hint: Try plotting the scores from the previous question to visualize the relationship. Code is provided below.)\n",
    "\n",
    "This function should return a tuple with the gamma values in this order: (Underfitting, Overfitting, Good_Generalization)\n",
    "You must enter these values in the format 1e-N, where N is the exponent, and the gamma value must be one of the values in the list `[1e-7, 1e-6, 1e-5, 1e-4, 1e-3, 1e-2]`.  Some answers have more than one value that will be accepted as correct."
   ]
  },
  {
   "cell_type": "code",
   "execution_count": null,
   "metadata": {
    "deletable": false,
    "nbgrader": {
     "checksum": "abc87aeffacc9bf5612667b28b90a148",
     "grade": false,
     "grade_id": "cell-1dfedc819ebff323",
     "locked": false,
     "schema_version": 1,
     "solution": true
    }
   },
   "outputs": [],
   "source": [
    "import numpy as np\n",
    "import pandas as pd\n",
    "import matplotlib.pyplot as plt\n",
    "a, b = answer_five()\n",
    "\n",
    "# Remember to comment it out before submitting the notebook\n",
    "# uncomment to plot\n",
    "\n",
    "# x = np.arange(-7, -1, 1)\n",
    "# plt.figure()\n",
    "# plt.plot(x, a, label=\"Avg Train Acc\")\n",
    "# plt.plot(x, b, label=\"Avg Test Acc\")\n",
    "# plt.xticks(x)\n",
    "# plt.xlabel('log scale: gamma parameter')\n",
    "# plt.ylabel(\"Accuracy\")\n",
    "# plt.legend()\n",
    "# plt.show()\n",
    "\n",
    "def answer_six():\n",
    "    result = (1e-7,1e-2,1e-4)\n",
    "    # YOUR CODE HERE\n",
    "    #raise NotImplementedError()\n",
    "    return result\n",
    "    "
   ]
  },
  {
   "cell_type": "code",
   "execution_count": null,
   "metadata": {
    "deletable": false,
    "editable": false,
    "nbgrader": {
     "checksum": "fd2ea68b464cc746a7d017817eafbbc0",
     "grade": true,
     "grade_id": "cell-50694160622bff71",
     "locked": true,
     "points": 5,
     "schema_version": 1,
     "solution": false
    }
   },
   "outputs": [],
   "source": [
    "# Autograder tests\n",
    "\n",
    "stu_ans = answer_six()\n",
    "\n",
    "assert isinstance(stu_ans, tuple), \"Q6: You should return a tuple.\"\n",
    "assert len(stu_ans) == 3, \"Q6: Your tuple must have 3 elements.\"\n",
    "\n",
    "del stu_ans"
   ]
  }
 ],
 "metadata": {
  "coursera": {
   "schema_names": [
    "mads_supervised_learning_v2_assignment2"
   ]
  },
  "kernelspec": {
   "display_name": "Python 3 (ipykernel)",
   "language": "python",
   "name": "python3"
  },
  "language_info": {
   "codemirror_mode": {
    "name": "ipython",
    "version": 3
   },
   "file_extension": ".py",
   "mimetype": "text/x-python",
   "name": "python",
   "nbconvert_exporter": "python",
   "pygments_lexer": "ipython3",
   "version": "3.7.10"
  }
 },
 "nbformat": 4,
 "nbformat_minor": 2
}
