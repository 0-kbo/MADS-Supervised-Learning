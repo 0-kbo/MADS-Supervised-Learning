{
 "cells": [
  {
   "cell_type": "code",
   "execution_count": 2,
   "metadata": {
    "deletable": false,
    "editable": false,
    "nbgrader": {
     "checksum": "652b34fa731ca066f77d84de43b609bc",
     "grade": false,
     "grade_id": "cell-c18d184342185ba6",
     "locked": true,
     "schema_version": 1,
     "solution": false
    }
   },
   "outputs": [],
   "source": [
    "version = \"REPLACE_PACKAGE_VERSION\""
   ]
  },
  {
   "cell_type": "markdown",
   "metadata": {
    "deletable": false,
    "editable": false,
    "nbgrader": {
     "checksum": "21bfa3b09f86b7961ec0f8b79c8ec113",
     "grade": false,
     "grade_id": "cell-371f2ff64fb68763",
     "locked": true,
     "schema_version": 1,
     "solution": false
    }
   },
   "source": [
    "# Assignment 4 - Tree-based classification; Synthesis Project\n",
    "\n",
    "This assignment has two parts: the first part reviews tree-based classification, and the second part is a synthesis project."
   ]
  },
  {
   "cell_type": "code",
   "execution_count": 3,
   "metadata": {
    "deletable": false,
    "editable": false,
    "nbgrader": {
     "checksum": "328bb280e74981b355d8c6986e427c5b",
     "grade": false,
     "grade_id": "cell-93298b856670623e",
     "locked": true,
     "schema_version": 1,
     "solution": false
    }
   },
   "outputs": [],
   "source": [
    "# import some necessary libraries\n",
    "import numpy as np\n",
    "import pandas as pd\n",
    "import matplotlib.pyplot as plt\n",
    "\n",
    "from sklearn import tree\n",
    "from sklearn.model_selection import GridSearchCV\n",
    "from sklearn.metrics import classification_report\n",
    "\n",
    "# Suppress all warnings\n",
    "import warnings\n",
    "warnings.filterwarnings('ignore')"
   ]
  },
  {
   "cell_type": "markdown",
   "metadata": {
    "deletable": false,
    "editable": false,
    "nbgrader": {
     "checksum": "42cac3a62705a3f6de738f8e156281bc",
     "grade": false,
     "grade_id": "cell-5fdf96c3a95094fd",
     "locked": true,
     "schema_version": 1,
     "solution": false
    }
   },
   "source": [
    "## Part 1: Classification. Predicting landscape types from satellite data.\n",
    "\n",
    "Machine learning is being used increasingly to help fight climate change and promote sustainable land use. For this section of the assignment we will be working with a dataset derived from geospatial data, and our classification goal will be to predict the type of landscape visible by satellite. With an accurate classifier, we could monitor changes in land use and characteristics over time on a global scale.\n",
    "\n",
    "Summary of the dataset: \"The dataset is derived from two sources: 1) Landsat time-series satellite imagery from the years 2014-2015, and 2) crowdsourced georeferenced polygons with land cover labels obtained from OpenStreetMap. The crowdsourced polygons cover only a small part of the image area, and are used to extract training data from the image for classifying the rest of the image. The main challenge with the dataset is that both the imagery and the crowdsourced data contain noise (due to cloud cover in the images and inaccurate labeling/digitizing of polygons).\n",
    "\n",
    "The 'landsat_training.csv' file contains the training data for classification. Do not use this file to evaluate classification accuracy because it contains noise (many class labeling errors).\n",
    "\n",
    "The 'landsat_testing.csv' file contains testing data to evaluate the classification accuracy. Do not use this file to train the classifier. This file does not contain any class labeling errors.\n",
    "\n",
    "Attribute Information (columns):\n",
    "\n",
    "`class`: The land cover class (impervious, farm, forest, grass, orchard, water) **Note: this is the target variable to classify.**\n",
    "\n",
    "`max_ndvi`: the maximum NDVI (normalized difference vegetation index) value derived from the time-series of satellite images.\n",
    "\n",
    "`20150720_N - 20140101_N` : NDVI values extracted from satellite images acquired between January 2014 and July 2015, in reverse chronological order (dates given in the format yyyymmdd).\"\n",
    "\n",
    "This is a multi-class classification problem with six classes. Thus, you will want to examine both micro- and macro-averaged evaluation scores across all six classes, e.g. to see if there are landscape types that are more difficult than others to classify correctly.\n"
   ]
  },
  {
   "cell_type": "markdown",
   "metadata": {
    "deletable": false,
    "editable": false,
    "nbgrader": {
     "checksum": "b0631d70ea04a54b34dbb5cf16b20f22",
     "grade": false,
     "grade_id": "cell-c7c0b15f31c73274",
     "locked": true,
     "schema_version": 1,
     "solution": false
    }
   },
   "source": [
    "Use the following code to read in the data files. Note that we convert the strings giving the landscape types (the \"class\" column to be predicted) to numeric labels using `LabelEncoder`."
   ]
  },
  {
   "cell_type": "code",
   "execution_count": 4,
   "metadata": {},
   "outputs": [
    {
     "name": "stdout",
     "output_type": "stream",
     "text": [
      "['farm' 'forest' 'grass' 'impervious' 'orchard' 'water']\n"
     ]
    }
   ],
   "source": [
    "df_train = pd.read_csv('assets/landsat_training.csv')\n",
    "df_test  = pd.read_csv('assets/landsat_testing.csv')\n",
    "\n",
    "from sklearn.preprocessing import LabelEncoder\n",
    "\n",
    "enc = LabelEncoder()\n",
    "df_train['class_code'] = enc.fit_transform(df_train['class'])\n",
    "df_test['class_code']  = enc.transform(df_test['class'])\n",
    "\n",
    "class_names = enc.classes_\n",
    "print(class_names)\n",
    "\n",
    "X_train = df_train.iloc[:,1:28]\n",
    "y_train = df_train['class_code']\n",
    "\n",
    "X_test = df_test.iloc[:,1:28]\n",
    "y_test = df_test['class_code']\n"
   ]
  },
  {
   "cell_type": "code",
   "execution_count": 5,
   "metadata": {},
   "outputs": [
    {
     "data": {
      "text/plain": [
       "0    5\n",
       "1    5\n",
       "2    5\n",
       "3    5\n",
       "4    5\n",
       "Name: class_code, dtype: int64"
      ]
     },
     "execution_count": 5,
     "metadata": {},
     "output_type": "execute_result"
    }
   ],
   "source": [
    "y_test.head()"
   ]
  },
  {
   "cell_type": "markdown",
   "metadata": {
    "deletable": false,
    "editable": false,
    "nbgrader": {
     "checksum": "cc1333984b3c637b51bdc6cf6bbd5ce4",
     "grade": false,
     "grade_id": "cell-0ad8bbcf6ece9180",
     "locked": true,
     "schema_version": 1,
     "solution": false
    }
   },
   "source": [
    "### Question 1. Basic decision trees (10 points)\n",
    "\n",
    "Using `X_train` and `y_train` from the preceeding cell, train a `DecisionTreeClassifier` with default parameters and `random_state=0`. What are the 5 most important features found by the decision tree?\n",
    "\n",
    "*Your function should return a tuple of length 5 of the feature names in descending order of importance.*"
   ]
  },
  {
   "cell_type": "code",
   "execution_count": 6,
   "metadata": {
    "deletable": false,
    "nbgrader": {
     "checksum": "a247269ba9ef83b4866be2d6572da39e",
     "grade": false,
     "grade_id": "cell-ee22a662e4ae25de",
     "locked": false,
     "schema_version": 1,
     "solution": true
    }
   },
   "outputs": [],
   "source": [
    "def answer_one():\n",
    "    features = None\n",
    "    \n",
    "    from sklearn.tree import DecisionTreeClassifier\n",
    "    \n",
    "    clf = DecisionTreeClassifier(random_state = 0).fit(X_train, y_train)\n",
    "\n",
    "#     feature_names = [f\"feature {i}\" for i in range(X_train.shape[1])]\n",
    "    feature_names = X_train.columns\n",
    "\n",
    "    importance = clf.feature_importances_\n",
    "    importance\n",
    "\n",
    "    comb = zip(feature_names,importance)\n",
    "    comb = list(comb)\n",
    "    comb.sort(key = lambda x:x[1], reverse = True)\n",
    "    comb\n",
    "\n",
    "    features = []\n",
    "    for i in comb[:5]:\n",
    "        features.append(i[0])\n",
    "\n",
    "    features\n",
    "    \n",
    "    # YOUR CODE HERE\n",
    "    #raise NotImplementedError()\n",
    "    \n",
    "    return tuple(features)"
   ]
  },
  {
   "cell_type": "code",
   "execution_count": 7,
   "metadata": {},
   "outputs": [
    {
     "data": {
      "text/plain": [
       "['max_ndvi', '20150125_N', '20141016_N', '20140813_N', '20140930_N']"
      ]
     },
     "execution_count": 7,
     "metadata": {},
     "output_type": "execute_result"
    }
   ],
   "source": [
    "\n",
    "from sklearn.tree import DecisionTreeClassifier\n",
    "\n",
    "\n",
    "clf = DecisionTreeClassifier(random_state = 0).fit(X_train, y_train)\n",
    "\n",
    "# feature_names = [f\"feature {i}\" for i in range(X_train.shape[1])]\n",
    "feature_names = X_train.columns\n",
    "\n",
    "importance = clf.feature_importances_\n",
    "importance\n",
    "\n",
    "comb = zip(feature_names,importance)\n",
    "comb = list(comb)\n",
    "comb.sort(key = lambda x:x[1], reverse = True)\n",
    "comb\n",
    "\n",
    "final = []\n",
    "for i in comb[0:5]:\n",
    "    final.append(i[0])\n",
    "    \n",
    "final"
   ]
  },
  {
   "cell_type": "code",
   "execution_count": 8,
   "metadata": {},
   "outputs": [
    {
     "data": {
      "text/html": [
       "<div>\n",
       "<style scoped>\n",
       "    .dataframe tbody tr th:only-of-type {\n",
       "        vertical-align: middle;\n",
       "    }\n",
       "\n",
       "    .dataframe tbody tr th {\n",
       "        vertical-align: top;\n",
       "    }\n",
       "\n",
       "    .dataframe thead th {\n",
       "        text-align: right;\n",
       "    }\n",
       "</style>\n",
       "<table border=\"1\" class=\"dataframe\">\n",
       "  <thead>\n",
       "    <tr style=\"text-align: right;\">\n",
       "      <th></th>\n",
       "      <th>max_ndvi</th>\n",
       "      <th>20150720_N</th>\n",
       "      <th>20150602_N</th>\n",
       "      <th>20150517_N</th>\n",
       "      <th>20150501_N</th>\n",
       "      <th>20150415_N</th>\n",
       "      <th>20150330_N</th>\n",
       "      <th>20150314_N</th>\n",
       "      <th>20150226_N</th>\n",
       "      <th>20150210_N</th>\n",
       "      <th>...</th>\n",
       "      <th>20140626_N</th>\n",
       "      <th>20140610_N</th>\n",
       "      <th>20140525_N</th>\n",
       "      <th>20140509_N</th>\n",
       "      <th>20140423_N</th>\n",
       "      <th>20140407_N</th>\n",
       "      <th>20140322_N</th>\n",
       "      <th>20140218_N</th>\n",
       "      <th>20140202_N</th>\n",
       "      <th>20140117_N</th>\n",
       "    </tr>\n",
       "  </thead>\n",
       "  <tbody>\n",
       "    <tr>\n",
       "      <th>0</th>\n",
       "      <td>2750.110</td>\n",
       "      <td>1361.8900</td>\n",
       "      <td>-247.508</td>\n",
       "      <td>-521.17300</td>\n",
       "      <td>-1123.910</td>\n",
       "      <td>2653.0800</td>\n",
       "      <td>-264.4140</td>\n",
       "      <td>-456.4660</td>\n",
       "      <td>2080.85000</td>\n",
       "      <td>-2041.430</td>\n",
       "      <td>...</td>\n",
       "      <td>2081.940</td>\n",
       "      <td>2380.00</td>\n",
       "      <td>1078.400</td>\n",
       "      <td>1778.030</td>\n",
       "      <td>2673.610</td>\n",
       "      <td>-178.9710</td>\n",
       "      <td>2238.5800</td>\n",
       "      <td>1000.760</td>\n",
       "      <td>-81.5418</td>\n",
       "      <td>1146.260</td>\n",
       "    </tr>\n",
       "    <tr>\n",
       "      <th>1</th>\n",
       "      <td>2646.250</td>\n",
       "      <td>1760.8500</td>\n",
       "      <td>481.100</td>\n",
       "      <td>6.26571</td>\n",
       "      <td>398.950</td>\n",
       "      <td>2646.2500</td>\n",
       "      <td>550.9820</td>\n",
       "      <td>92.6923</td>\n",
       "      <td>2188.03000</td>\n",
       "      <td>-1049.050</td>\n",
       "      <td>...</td>\n",
       "      <td>2178.550</td>\n",
       "      <td>2009.69</td>\n",
       "      <td>1083.700</td>\n",
       "      <td>2029.520</td>\n",
       "      <td>1033.900</td>\n",
       "      <td>-19.6148</td>\n",
       "      <td>2183.6600</td>\n",
       "      <td>927.882</td>\n",
       "      <td>668.7500</td>\n",
       "      <td>1519.740</td>\n",
       "    </tr>\n",
       "    <tr>\n",
       "      <th>2</th>\n",
       "      <td>3509.620</td>\n",
       "      <td>3509.6200</td>\n",
       "      <td>-241.320</td>\n",
       "      <td>-1239.32000</td>\n",
       "      <td>-330.388</td>\n",
       "      <td>1257.1900</td>\n",
       "      <td>-175.1710</td>\n",
       "      <td>-294.5000</td>\n",
       "      <td>-1315.06000</td>\n",
       "      <td>2486.500</td>\n",
       "      <td>...</td>\n",
       "      <td>2524.020</td>\n",
       "      <td>1838.51</td>\n",
       "      <td>1538.750</td>\n",
       "      <td>846.783</td>\n",
       "      <td>965.654</td>\n",
       "      <td>-468.0240</td>\n",
       "      <td>-222.3120</td>\n",
       "      <td>1124.250</td>\n",
       "      <td>1132.9000</td>\n",
       "      <td>594.059</td>\n",
       "    </tr>\n",
       "    <tr>\n",
       "      <th>3</th>\n",
       "      <td>2820.470</td>\n",
       "      <td>2138.6900</td>\n",
       "      <td>-126.186</td>\n",
       "      <td>-522.28100</td>\n",
       "      <td>-741.163</td>\n",
       "      <td>2334.7000</td>\n",
       "      <td>-207.4360</td>\n",
       "      <td>-76.9686</td>\n",
       "      <td>2820.47000</td>\n",
       "      <td>-1427.560</td>\n",
       "      <td>...</td>\n",
       "      <td>2195.570</td>\n",
       "      <td>2098.55</td>\n",
       "      <td>984.456</td>\n",
       "      <td>2239.330</td>\n",
       "      <td>593.874</td>\n",
       "      <td>1540.8800</td>\n",
       "      <td>2398.4200</td>\n",
       "      <td>846.470</td>\n",
       "      <td>572.3080</td>\n",
       "      <td>1311.610</td>\n",
       "    </tr>\n",
       "    <tr>\n",
       "      <th>4</th>\n",
       "      <td>2684.130</td>\n",
       "      <td>1995.8000</td>\n",
       "      <td>-1029.570</td>\n",
       "      <td>1713.62000</td>\n",
       "      <td>-472.258</td>\n",
       "      <td>2526.9900</td>\n",
       "      <td>-91.7429</td>\n",
       "      <td>-146.2260</td>\n",
       "      <td>2487.71000</td>\n",
       "      <td>1185.190</td>\n",
       "      <td>...</td>\n",
       "      <td>2560.820</td>\n",
       "      <td>2684.13</td>\n",
       "      <td>1432.150</td>\n",
       "      <td>2174.890</td>\n",
       "      <td>1321.690</td>\n",
       "      <td>1351.5800</td>\n",
       "      <td>2381.9500</td>\n",
       "      <td>870.890</td>\n",
       "      <td>1174.3300</td>\n",
       "      <td>991.427</td>\n",
       "    </tr>\n",
       "    <tr>\n",
       "      <th>...</th>\n",
       "      <td>...</td>\n",
       "      <td>...</td>\n",
       "      <td>...</td>\n",
       "      <td>...</td>\n",
       "      <td>...</td>\n",
       "      <td>...</td>\n",
       "      <td>...</td>\n",
       "      <td>...</td>\n",
       "      <td>...</td>\n",
       "      <td>...</td>\n",
       "      <td>...</td>\n",
       "      <td>...</td>\n",
       "      <td>...</td>\n",
       "      <td>...</td>\n",
       "      <td>...</td>\n",
       "      <td>...</td>\n",
       "      <td>...</td>\n",
       "      <td>...</td>\n",
       "      <td>...</td>\n",
       "      <td>...</td>\n",
       "      <td>...</td>\n",
       "    </tr>\n",
       "    <tr>\n",
       "      <th>295</th>\n",
       "      <td>491.678</td>\n",
       "      <td>-1673.7400</td>\n",
       "      <td>-2514.480</td>\n",
       "      <td>-2451.19000</td>\n",
       "      <td>-2738.440</td>\n",
       "      <td>64.4464</td>\n",
       "      <td>-2275.0300</td>\n",
       "      <td>-2881.1000</td>\n",
       "      <td>-4738.97000</td>\n",
       "      <td>-4293.570</td>\n",
       "      <td>...</td>\n",
       "      <td>491.678</td>\n",
       "      <td>-2257.89</td>\n",
       "      <td>-2582.420</td>\n",
       "      <td>-1699.100</td>\n",
       "      <td>-2295.300</td>\n",
       "      <td>306.4830</td>\n",
       "      <td>209.4030</td>\n",
       "      <td>221.920</td>\n",
       "      <td>-4885.1500</td>\n",
       "      <td>-2630.590</td>\n",
       "    </tr>\n",
       "    <tr>\n",
       "      <th>296</th>\n",
       "      <td>556.093</td>\n",
       "      <td>-96.8233</td>\n",
       "      <td>-412.727</td>\n",
       "      <td>-1795.40000</td>\n",
       "      <td>-2363.820</td>\n",
       "      <td>-2168.1900</td>\n",
       "      <td>-2162.6800</td>\n",
       "      <td>-3155.7400</td>\n",
       "      <td>-4416.11000</td>\n",
       "      <td>-5648.660</td>\n",
       "      <td>...</td>\n",
       "      <td>165.140</td>\n",
       "      <td>-3991.91</td>\n",
       "      <td>-2614.910</td>\n",
       "      <td>-2109.840</td>\n",
       "      <td>-2687.180</td>\n",
       "      <td>-2853.8900</td>\n",
       "      <td>71.3402</td>\n",
       "      <td>-86.414</td>\n",
       "      <td>-5109.0100</td>\n",
       "      <td>324.637</td>\n",
       "    </tr>\n",
       "    <tr>\n",
       "      <th>297</th>\n",
       "      <td>987.461</td>\n",
       "      <td>-2364.6000</td>\n",
       "      <td>-155.592</td>\n",
       "      <td>-1422.09000</td>\n",
       "      <td>-1713.400</td>\n",
       "      <td>465.6220</td>\n",
       "      <td>-2230.4000</td>\n",
       "      <td>-3088.7300</td>\n",
       "      <td>-5010.32000</td>\n",
       "      <td>-4211.420</td>\n",
       "      <td>...</td>\n",
       "      <td>-694.225</td>\n",
       "      <td>-2484.50</td>\n",
       "      <td>-1756.080</td>\n",
       "      <td>-3820.430</td>\n",
       "      <td>-1988.230</td>\n",
       "      <td>433.8520</td>\n",
       "      <td>291.8000</td>\n",
       "      <td>254.548</td>\n",
       "      <td>-4259.3000</td>\n",
       "      <td>412.115</td>\n",
       "    </tr>\n",
       "    <tr>\n",
       "      <th>298</th>\n",
       "      <td>973.953</td>\n",
       "      <td>-3004.6300</td>\n",
       "      <td>-1217.120</td>\n",
       "      <td>180.12200</td>\n",
       "      <td>-1113.890</td>\n",
       "      <td>438.4180</td>\n",
       "      <td>-2442.5100</td>\n",
       "      <td>-3210.5600</td>\n",
       "      <td>-3237.74000</td>\n",
       "      <td>-192.857</td>\n",
       "      <td>...</td>\n",
       "      <td>556.522</td>\n",
       "      <td>-3291.49</td>\n",
       "      <td>-2018.450</td>\n",
       "      <td>-3472.650</td>\n",
       "      <td>-3109.070</td>\n",
       "      <td>511.7920</td>\n",
       "      <td>369.0970</td>\n",
       "      <td>276.948</td>\n",
       "      <td>-5574.5100</td>\n",
       "      <td>298.739</td>\n",
       "    </tr>\n",
       "    <tr>\n",
       "      <th>299</th>\n",
       "      <td>516.427</td>\n",
       "      <td>-2975.1000</td>\n",
       "      <td>-1129.790</td>\n",
       "      <td>463.74800</td>\n",
       "      <td>-5355.400</td>\n",
       "      <td>193.5110</td>\n",
       "      <td>-2590.1600</td>\n",
       "      <td>-3113.5200</td>\n",
       "      <td>-2.38883</td>\n",
       "      <td>-1248.450</td>\n",
       "      <td>...</td>\n",
       "      <td>-676.308</td>\n",
       "      <td>-3058.23</td>\n",
       "      <td>-2276.180</td>\n",
       "      <td>-3335.000</td>\n",
       "      <td>-2929.190</td>\n",
       "      <td>-1007.5000</td>\n",
       "      <td>271.0580</td>\n",
       "      <td>307.997</td>\n",
       "      <td>-5453.3300</td>\n",
       "      <td>307.495</td>\n",
       "    </tr>\n",
       "  </tbody>\n",
       "</table>\n",
       "<p>300 rows × 27 columns</p>\n",
       "</div>"
      ],
      "text/plain": [
       "     max_ndvi  20150720_N  20150602_N  20150517_N  20150501_N  20150415_N  \\\n",
       "0    2750.110   1361.8900    -247.508  -521.17300   -1123.910   2653.0800   \n",
       "1    2646.250   1760.8500     481.100     6.26571     398.950   2646.2500   \n",
       "2    3509.620   3509.6200    -241.320 -1239.32000    -330.388   1257.1900   \n",
       "3    2820.470   2138.6900    -126.186  -522.28100    -741.163   2334.7000   \n",
       "4    2684.130   1995.8000   -1029.570  1713.62000    -472.258   2526.9900   \n",
       "..        ...         ...         ...         ...         ...         ...   \n",
       "295   491.678  -1673.7400   -2514.480 -2451.19000   -2738.440     64.4464   \n",
       "296   556.093    -96.8233    -412.727 -1795.40000   -2363.820  -2168.1900   \n",
       "297   987.461  -2364.6000    -155.592 -1422.09000   -1713.400    465.6220   \n",
       "298   973.953  -3004.6300   -1217.120   180.12200   -1113.890    438.4180   \n",
       "299   516.427  -2975.1000   -1129.790   463.74800   -5355.400    193.5110   \n",
       "\n",
       "     20150330_N  20150314_N  20150226_N  20150210_N  ...  20140626_N  \\\n",
       "0     -264.4140   -456.4660  2080.85000   -2041.430  ...    2081.940   \n",
       "1      550.9820     92.6923  2188.03000   -1049.050  ...    2178.550   \n",
       "2     -175.1710   -294.5000 -1315.06000    2486.500  ...    2524.020   \n",
       "3     -207.4360    -76.9686  2820.47000   -1427.560  ...    2195.570   \n",
       "4      -91.7429   -146.2260  2487.71000    1185.190  ...    2560.820   \n",
       "..          ...         ...         ...         ...  ...         ...   \n",
       "295  -2275.0300  -2881.1000 -4738.97000   -4293.570  ...     491.678   \n",
       "296  -2162.6800  -3155.7400 -4416.11000   -5648.660  ...     165.140   \n",
       "297  -2230.4000  -3088.7300 -5010.32000   -4211.420  ...    -694.225   \n",
       "298  -2442.5100  -3210.5600 -3237.74000    -192.857  ...     556.522   \n",
       "299  -2590.1600  -3113.5200    -2.38883   -1248.450  ...    -676.308   \n",
       "\n",
       "     20140610_N  20140525_N  20140509_N  20140423_N  20140407_N  20140322_N  \\\n",
       "0       2380.00    1078.400    1778.030    2673.610   -178.9710   2238.5800   \n",
       "1       2009.69    1083.700    2029.520    1033.900    -19.6148   2183.6600   \n",
       "2       1838.51    1538.750     846.783     965.654   -468.0240   -222.3120   \n",
       "3       2098.55     984.456    2239.330     593.874   1540.8800   2398.4200   \n",
       "4       2684.13    1432.150    2174.890    1321.690   1351.5800   2381.9500   \n",
       "..          ...         ...         ...         ...         ...         ...   \n",
       "295    -2257.89   -2582.420   -1699.100   -2295.300    306.4830    209.4030   \n",
       "296    -3991.91   -2614.910   -2109.840   -2687.180  -2853.8900     71.3402   \n",
       "297    -2484.50   -1756.080   -3820.430   -1988.230    433.8520    291.8000   \n",
       "298    -3291.49   -2018.450   -3472.650   -3109.070    511.7920    369.0970   \n",
       "299    -3058.23   -2276.180   -3335.000   -2929.190  -1007.5000    271.0580   \n",
       "\n",
       "     20140218_N  20140202_N  20140117_N  \n",
       "0      1000.760    -81.5418    1146.260  \n",
       "1       927.882    668.7500    1519.740  \n",
       "2      1124.250   1132.9000     594.059  \n",
       "3       846.470    572.3080    1311.610  \n",
       "4       870.890   1174.3300     991.427  \n",
       "..          ...         ...         ...  \n",
       "295     221.920  -4885.1500   -2630.590  \n",
       "296     -86.414  -5109.0100     324.637  \n",
       "297     254.548  -4259.3000     412.115  \n",
       "298     276.948  -5574.5100     298.739  \n",
       "299     307.997  -5453.3300     307.495  \n",
       "\n",
       "[300 rows x 27 columns]"
      ]
     },
     "execution_count": 8,
     "metadata": {},
     "output_type": "execute_result"
    }
   ],
   "source": [
    "df_train.head()\n",
    "\n",
    "X_test"
   ]
  },
  {
   "cell_type": "code",
   "execution_count": 9,
   "metadata": {},
   "outputs": [
    {
     "data": {
      "text/plain": [
       "('max_ndvi', '20150125_N', '20141016_N', '20140813_N', '20140930_N')"
      ]
     },
     "execution_count": 9,
     "metadata": {},
     "output_type": "execute_result"
    }
   ],
   "source": [
    "stu_ans = answer_one()\n",
    "stu_ans"
   ]
  },
  {
   "cell_type": "code",
   "execution_count": 10,
   "metadata": {
    "deletable": false,
    "editable": false,
    "nbgrader": {
     "checksum": "342073b576168d8e8da908b8f00e7469",
     "grade": true,
     "grade_id": "cell-fcc2ede23f97cdfd",
     "locked": true,
     "points": 10,
     "schema_version": 1,
     "solution": false
    }
   },
   "outputs": [],
   "source": [
    "# Autograder tests\n",
    "\n",
    "stu_ans = answer_one()\n",
    "\n",
    "assert isinstance(stu_ans, tuple), \"Q1: Your function should return a tuple. \"\n",
    "assert len(stu_ans) == 5, \"Q1: The length of your returned tuple should be 5. \"\n",
    "assert all([isinstance(item, str) for item in stu_ans]), \"Q1: Your tuple should only contain strings. \"\n",
    "\n",
    "\n",
    "del stu_ans"
   ]
  },
  {
   "cell_type": "markdown",
   "metadata": {
    "deletable": false,
    "editable": false,
    "nbgrader": {
     "checksum": "4605651c5563e169f43d18418a000641",
     "grade": false,
     "grade_id": "cell-f26f90427962c3f3",
     "locked": true,
     "schema_version": 1,
     "solution": false
    }
   },
   "source": [
    "### Question 2.  (10 points) \n",
    "\n",
    "One very important decision tree parameter that can have a significant effect on how much the data are overfit (or not) is the *maximum tree depth*. Increasing maximum tree depth may increase accuracy by allowing more complex decision rules involving more features, but also increases the potential for overfitting with deeper trees.\n",
    "\n",
    "Examine the effect of maximum tree depth on training and test set accuracy for a basic decision tree on this dataset. \n",
    "Return a list of `(train_score, test_score)` tuples for each possible maximum tree depth from 1 to 10.\n",
    "\n",
    "Use `random_state=0` for any calls involving randomization."
   ]
  },
  {
   "cell_type": "code",
   "execution_count": 11,
   "metadata": {
    "deletable": false,
    "nbgrader": {
     "checksum": "8629a5c16b0a5b002e77366b00e61906",
     "grade": false,
     "grade_id": "cell-633602c9b38e2d91",
     "locked": false,
     "schema_version": 1,
     "solution": true
    }
   },
   "outputs": [],
   "source": [
    "def answer_two():\n",
    "    results = []\n",
    "    \n",
    "    for i in list(range(1,11)):\n",
    "        clf = DecisionTreeClassifier(max_depth = i,random_state = 0).fit(X_train, y_train)\n",
    "        tr,te = clf.score(X_train,y_train), clf.score(X_test,y_test)\n",
    "\n",
    "        results.append((tr,te))\n",
    "    \n",
    "    # YOUR CODE HERE\n",
    "    #raise NotImplementedError()\n",
    "    \n",
    "    return results"
   ]
  },
  {
   "cell_type": "code",
   "execution_count": 12,
   "metadata": {},
   "outputs": [
    {
     "data": {
      "text/plain": [
       "[(0.725936462778568, 0.3433333333333333),\n",
       " (0.7871028923660502, 0.43333333333333335),\n",
       " (0.8349928876244666, 0.49333333333333335),\n",
       " (0.8614509246088193, 0.5433333333333333),\n",
       " (0.8744428639165481, 0.48),\n",
       " (0.8924608819345662, 0.53),\n",
       " (0.9128496917970602, 0.5566666666666666),\n",
       " (0.9354196301564722, 0.5533333333333333),\n",
       " (0.9533428165007113, 0.5566666666666666),\n",
       " (0.9664295874822191, 0.55)]"
      ]
     },
     "execution_count": 12,
     "metadata": {},
     "output_type": "execute_result"
    }
   ],
   "source": [
    "results = []\n",
    "\n",
    "for i in list(range(1,11)):\n",
    "    clf = DecisionTreeClassifier(max_depth = i,random_state = 0).fit(X_train, y_train)\n",
    "    tr,te = clf.score(X_train,y_train), clf.score(X_test,y_test)\n",
    "    \n",
    "    results.append((tr,te))\n",
    "    \n",
    "results   \n",
    "    \n",
    "    \n",
    "\n"
   ]
  },
  {
   "cell_type": "code",
   "execution_count": 13,
   "metadata": {
    "deletable": false,
    "editable": false,
    "nbgrader": {
     "checksum": "0ab1a8511db35819fe72f17987ad23c4",
     "grade": true,
     "grade_id": "cell-8208b681c03c5dcb",
     "locked": true,
     "points": 10,
     "schema_version": 1,
     "solution": false
    }
   },
   "outputs": [],
   "source": [
    "# Autograder tests\n",
    "\n",
    "stu_ans = answer_two()\n",
    "\n",
    "assert isinstance(stu_ans, list), \"Q2: Your function should return a list. \"\n",
    "assert len(stu_ans) == 10, \"Q2: The length of your returned list should be 10. \"\n",
    "assert all([isinstance(item, tuple) for item in stu_ans]), \"Q2: Your list should only contain tuples. \"\n",
    "\n",
    "del stu_ans"
   ]
  },
  {
   "cell_type": "markdown",
   "metadata": {
    "deletable": false,
    "editable": false,
    "nbgrader": {
     "checksum": "53f96e8b545f10564cb4b3f230fb6a4b",
     "grade": false,
     "grade_id": "cell-2dfcdbc06d67c88c",
     "locked": true,
     "schema_version": 1,
     "solution": false
    }
   },
   "source": [
    "Uncommenting the code below, take a look at the classification report for this GBDT model using the *test* set to evaluate. It is instructive to compare these results with the results from previous classifiers. "
   ]
  },
  {
   "cell_type": "code",
   "execution_count": 14,
   "metadata": {},
   "outputs": [],
   "source": [
    "# Remember to comment them out before submitting the notebook\n",
    "\n",
    "# test_accs = [t for _, t in answer_two()]\n",
    "# best_tree_model = tree.DecisionTreeClassifier(random_state=0, max_depth=np.argmax(test_accs) + 1).fit(X_train, y_train)\n",
    "# y_pred = best_tree_model.predict(X_test)\n",
    "# print(classification_report(y_test, y_pred, target_names=class_names))\n",
    "# del test_accs, best_tree_model, y_pred"
   ]
  },
  {
   "cell_type": "markdown",
   "metadata": {
    "deletable": false,
    "editable": false,
    "nbgrader": {
     "checksum": "3f77384cb03561c760e77def8497b2a2",
     "grade": false,
     "grade_id": "cell-825b2bd8fe7a37e7",
     "locked": true,
     "schema_version": 1,
     "solution": false
    }
   },
   "source": [
    "### Question 3. Gradient-boosted decision trees (10 points)\n",
    "\n",
    "We're now going to apply GBDT to the same dataset to compare its performance with ordinary decision trees. Train a default GBDT and output the training and test scores (accuracy) in that order, as a float 2-tuple. (Use `random_state=0` for any randomized operations.)"
   ]
  },
  {
   "cell_type": "code",
   "execution_count": 15,
   "metadata": {
    "deletable": false,
    "nbgrader": {
     "checksum": "0791c80600fe6466f6fe3f050cc878e0",
     "grade": false,
     "grade_id": "cell-629b34d2603111d0",
     "locked": false,
     "schema_version": 1,
     "solution": true
    }
   },
   "outputs": [],
   "source": [
    "def answer_three():\n",
    "    results = None\n",
    "    \n",
    "    clf = GradientBoostingClassifier(random_state = 0).fit(X_train, y_train)\n",
    "\n",
    "    tr, te = clf.score(X_train, y_train), clf.score(X_test, y_test)\n",
    "\n",
    "    results = tr, te\n",
    "    \n",
    "    # YOUR CODE HERE\n",
    "    #raise NotImplementedError()\n",
    "    \n",
    "    return results"
   ]
  },
  {
   "cell_type": "code",
   "execution_count": 16,
   "metadata": {},
   "outputs": [
    {
     "data": {
      "text/plain": [
       "(0.9793266951161688, 0.6233333333333333)"
      ]
     },
     "execution_count": 16,
     "metadata": {},
     "output_type": "execute_result"
    }
   ],
   "source": [
    "from sklearn.ensemble import GradientBoostingClassifier\n",
    "\n",
    "clf = GradientBoostingClassifier(random_state = 0).fit(X_train, y_train)\n",
    "\n",
    "tr, te = clf.score(X_train, y_train), clf.score(X_test, y_test)\n",
    "\n",
    "tr, te\n",
    "\n"
   ]
  },
  {
   "cell_type": "code",
   "execution_count": 17,
   "metadata": {
    "deletable": false,
    "editable": false,
    "nbgrader": {
     "checksum": "26bea53b7a74b7880e56414ad916496c",
     "grade": true,
     "grade_id": "cell-6028ee92780b1e5a",
     "locked": true,
     "points": 10,
     "schema_version": 1,
     "solution": false
    }
   },
   "outputs": [],
   "source": [
    "#Autograder tests\n",
    "\n",
    "stu_ans = answer_three()\n",
    "\n",
    "assert isinstance(stu_ans, tuple), \"Q3a: Your function should return a tuple. \"\n",
    "assert len(stu_ans) == 2, \"Q3a: The length of your returned tuple should be 2. \"\n",
    "assert all([isinstance(item, float) for item in stu_ans]), \"Q3a: Your tuple should only contain floats. \"\n",
    "\n",
    "del stu_ans"
   ]
  },
  {
   "cell_type": "markdown",
   "metadata": {
    "deletable": false,
    "editable": false,
    "nbgrader": {
     "checksum": "b393e51062b46858bdef16e013673eb7",
     "grade": false,
     "grade_id": "cell-ddaf00c64910a881",
     "locked": true,
     "schema_version": 1,
     "solution": false
    }
   },
   "source": [
    "## Part 2: Synthesis project"
   ]
  },
  {
   "cell_type": "markdown",
   "metadata": {
    "deletable": false,
    "editable": false,
    "nbgrader": {
     "checksum": "3db4dd15b26fb121cb5a9ee377ce8ed9",
     "grade": false,
     "grade_id": "cell-4998be9718b40d95",
     "locked": true,
     "schema_version": 1,
     "solution": false
    }
   },
   "source": [
    "### Question 1. City of Detroit Prediction Problem (70 points)\n",
    "\n",
    "The synthesis project is based on a data challenge from the Michigan Data Science Team ([MDST](http://midas.umich.edu/mdst/)). \n",
    "\n",
    "The Michigan Data Science Team ([MDST](http://midas.umich.edu/mdst/)) and the Michigan Student Symposium for Interdisciplinary Statistical Sciences ([MSSISS](https://sites.lsa.umich.edu/mssiss/)) have partnered with the City of Detroit to help solve one of the most pressing problems facing Detroit - building deterioration. [Blight violations](https://detroitmi.gov/departments/department-appeals-and-hearings/blight-ticket-information) are issued by the city to individuals who allow their properties to remain in a deteriorated condition. Every year, the city of Detroit issues millions of dollars in fines to residents and every year, many of these fines remain unpaid. Enforcing unpaid blight fines is a costly and tedious process, so the city wants to know: how can we increase blight ticket compliance?\n",
    "\n",
    "The first step in answering this question is understanding when and why a resident might fail to comply with a blight ticket. This is where predictive modeling comes in. For this assignment, your task is to predict whether a given blight ticket will be paid on time.\n",
    "\n",
    "All data for this assignment has been provided to us through the [Detroit Open Data Portal](https://data.detroitmi.gov/). **Only the data already included in your Coursera directory can be used for training the model for this assignment.** Nonetheless, we encourage you to look into data from other Detroit datasets to help inform feature creation and model selection. Some related datasets of interest include:\n",
    "\n",
    "* [Building Permits](https://data.detroitmi.gov/datasets/building-permits)\n",
    "* [Trades Permits](https://data.detroitmi.gov/datasets/trades-permits)\n",
    "* [Improve Detroit: Submitted Issues](https://data.detroitmi.gov/datasets/improve-detroit-issues)\n",
    "* [DPD: Citizen Complaints](https://data.detroitmi.gov/datasets/dpd-citizen-complaints)\n",
    "* [Parcel Data](https://data.detroitmi.gov/datasets/parcels-2)\n",
    "\n",
    "___\n",
    "\n",
    "We provide you with two data files for use in training and validating your models: train.csv and test.csv. Each row in these two files corresponds to a single blight ticket, and includes information about when, why, and to whom each ticket was issued. The target variable is compliance, which is True if the ticket was paid early, on time, or within one month of the hearing data, False if the ticket was paid after the hearing date or not at all, and Null if the violator was found not responsible. Compliance, as well as a handful of other variables that will not be available at test-time, are only included in train.csv.\n",
    "\n",
    "Note: All tickets where the violators were found not responsible are not considered during evaluation. They are included in the training set as an additional source of data for visualization, and to enable unsupervised and semi-supervised approaches. However, they are not included in the test set.\n",
    "\n",
    "<br>\n",
    "\n",
    "**File descriptions** (Use only this data for training your model!)\n",
    "\n",
    "    train.csv - the training set (all tickets issued 2004-2011)\n",
    "    test.csv - the test set (all tickets issued 2012-2016)\n",
    "    addresses.csv & latlons.csv - mapping from ticket id to addresses, and from addresses to lat/lon coordinates. \n",
    "     Note: misspelled addresses may be incorrectly geolocated.\n",
    "\n",
    "<br>\n",
    "\n",
    "**Data fields**\n",
    "\n",
    "train.csv & test.csv\n",
    "\n",
    "    ticket_id - unique identifier for tickets\n",
    "    agency_name - Agency that issued the ticket\n",
    "    inspector_name - Name of inspector that issued the ticket\n",
    "    violator_name - Name of the person/organization that the ticket was issued to\n",
    "    violation_street_number, violation_street_name, violation_zip_code - Address where the violation occurred\n",
    "    mailing_address_str_number, mailing_address_str_name, city, state, zip_code, non_us_str_code, country - Mailing address of the violator\n",
    "    ticket_issued_date - Date and time the ticket was issued\n",
    "    hearing_date - Date and time the violator's hearing was scheduled\n",
    "    violation_code, violation_description - Type of violation\n",
    "    disposition - Judgment and judgement type\n",
    "    fine_amount - Violation fine amount, excluding fees\n",
    "    admin_fee - $20 fee assigned to responsible judgments\n",
    "state_fee - $10 fee assigned to responsible judgments\n",
    "    late_fee - 10% fee assigned to responsible judgments\n",
    "    discount_amount - discount applied, if any\n",
    "    clean_up_cost - DPW clean-up or graffiti removal cost\n",
    "    judgment_amount - Sum of all fines and fees\n",
    "    grafitti_status - Flag for graffiti violations\n",
    "    \n",
    "train.csv only\n",
    "\n",
    "    payment_amount - Amount paid, if any\n",
    "    payment_date - Date payment was made, if it was received\n",
    "    payment_status - Current payment status as of Feb 1 2017\n",
    "    balance_due - Fines and fees still owed\n",
    "    collection_status - Flag for payments in collections\n",
    "    compliance [target variable for prediction] \n",
    "     Null = Not responsible\n",
    "     0 = Responsible, non-compliant\n",
    "     1 = Responsible, compliant\n",
    "    compliance_detail - More information on why each ticket was marked compliant or non-compliant\n",
    "\n",
    "\n",
    "___\n",
    "\n",
    "## Evaluation\n",
    "\n",
    "Your predictions will be given as the probability that the corresponding blight ticket will be paid on time.\n",
    "\n",
    "The evaluation metric for this assignment is the Area Under the ROC Curve (AUC). \n",
    "\n",
    "Your grade will be based on the AUC score computed for your classifier. A model which with an AUROC of 0.7 passes this assignment, over 0.75 will receive full points.\n",
    "___\n",
    "\n",
    "For this assignment, create a function that trains a model to predict blight ticket compliance in Detroit using `train.csv`. Using this model, return a series of length 61001 with the data being the probability that each corresponding ticket from `test.csv` will be paid, and the index being the ticket_id.\n",
    "\n",
    "Example:\n",
    "\n",
    "    ticket_id\n",
    "       284932    0.531842\n",
    "       285362    0.401958\n",
    "       285361    0.105928\n",
    "       285338    0.018572\n",
    "                 ...\n",
    "       376499    0.208567\n",
    "       376500    0.818759\n",
    "       369851    0.018528\n",
    "       Name: compliance, dtype: float32"
   ]
  },
  {
   "cell_type": "code",
   "execution_count": 18,
   "metadata": {
    "deletable": false,
    "nbgrader": {
     "checksum": "385d11b89a2b6a5cf31888e28ecf5c49",
     "grade": false,
     "grade_id": "cell-0403b6daf0fe689f",
     "locked": false,
     "schema_version": 1,
     "solution": true
    }
   },
   "outputs": [],
   "source": [
    "def blight_model():\n",
    "    rec = None\n",
    "    \n",
    "    from sklearn.linear_model import LogisticRegression\n",
    "    from sklearn.preprocessing import OneHotEncoder\n",
    "\n",
    "\n",
    "    #import dataframes\n",
    "\n",
    "    train_df = pd.read_csv('assets/train.csv')\n",
    "    test_df  = pd.read_csv('assets/test.csv')\n",
    "    addresses_df = pd.read_csv('assets/addresses.csv')\n",
    "    latlong_df = pd.read_csv('assets/latlons.csv')\n",
    "\n",
    "\n",
    "    #drop cases where outcome was Null\n",
    "\n",
    "    train_df = train_df[train_df['compliance'].notna()]\n",
    "    train_df \n",
    "\n",
    "    ###get only features we care about training\n",
    "\n",
    "    train_df = train_df[['agency_name','judgment_amount','fine_amount','discount_amount','clean_up_cost','compliance']].reset_index()\n",
    "\n",
    "    #one-hot encode agency_name\n",
    "\n",
    "\n",
    "    enc = OneHotEncoder(handle_unknown = 'error')\n",
    "    enc.fit(train_df[['agency_name']])\n",
    "\n",
    "    enc_df = pd.DataFrame(enc.transform(train_df[['agency_name']]).toarray())\n",
    "\n",
    "    train_df = train_df.join(enc_df)\n",
    "\n",
    "    train_df.drop(['index','agency_name'],axis = 1, inplace = True)\n",
    "\n",
    "    #define X_train, y_train\n",
    "    y_train = train_df['compliance']\n",
    "\n",
    "    train_df.drop(['compliance'],axis = 1, inplace = True)\n",
    "\n",
    "    X_train = train_df\n",
    "\n",
    "    ###get only features we care about testing\n",
    "\n",
    "    test_df = test_df[['ticket_id','agency_name','judgment_amount','fine_amount','discount_amount','clean_up_cost']].reset_index()\n",
    "\n",
    "    #one-hot encode agency_name\n",
    "\n",
    "    # enc = OneHotEncoder(handle_unknown = 'error')\n",
    "\n",
    "    enc_df = pd.DataFrame(enc.transform(test_df[['agency_name']]).toarray())\n",
    "\n",
    "    test_df = test_df.join(enc_df)\n",
    "\n",
    "    ticket_ids = list(test_df['ticket_id'])\n",
    "\n",
    "    test_df.drop(['index','agency_name','ticket_id'],axis = 1, inplace = True)\n",
    "\n",
    "\n",
    "    X_test = test_df\n",
    "\n",
    "    logreg = LogisticRegression().fit(X_train, y_train)\n",
    "\n",
    "    preds = logreg.predict_proba(X_test)\n",
    "\n",
    "    preds_paid = []\n",
    "\n",
    "    for i in preds:\n",
    "        preds_paid.append(i[1])\n",
    "\n",
    "    preds_paid\n",
    "\n",
    "    zipped = zip(ticket_ids,preds_paid)\n",
    "\n",
    "    final = pd.DataFrame(zipped).set_index(0)\n",
    "\n",
    "    rec = pd.Series(final[1])\n",
    "    \n",
    "\n",
    "    \n",
    "    # YOUR CODE HERE\n",
    "#     raise NotImplementedError()\n",
    "    \n",
    "    return rec"
   ]
  },
  {
   "cell_type": "code",
   "execution_count": 19,
   "metadata": {},
   "outputs": [],
   "source": [
    "#import dataframes\n",
    "\n",
    "train_df = pd.read_csv('assets/train.csv')\n",
    "test_df  = pd.read_csv('assets/test.csv')\n",
    "addresses_df = pd.read_csv('assets/addresses.csv')\n",
    "latlong_df = pd.read_csv('assets/latlons.csv')\n",
    "\n"
   ]
  },
  {
   "cell_type": "code",
   "execution_count": 1,
   "metadata": {},
   "outputs": [
    {
     "ename": "NameError",
     "evalue": "name 'pd' is not defined",
     "output_type": "error",
     "traceback": [
      "\u001b[0;31m---------------------------------------------------------------------------\u001b[0m",
      "\u001b[0;31mNameError\u001b[0m                                 Traceback (most recent call last)",
      "\u001b[0;32m/tmp/ipykernel_61/4292120689.py\u001b[0m in \u001b[0;36m<module>\u001b[0;34m\u001b[0m\n\u001b[1;32m      6\u001b[0m \u001b[0;31m#import dataframes\u001b[0m\u001b[0;34m\u001b[0m\u001b[0;34m\u001b[0m\u001b[0;34m\u001b[0m\u001b[0m\n\u001b[1;32m      7\u001b[0m \u001b[0;34m\u001b[0m\u001b[0m\n\u001b[0;32m----> 8\u001b[0;31m \u001b[0mtrain_df\u001b[0m \u001b[0;34m=\u001b[0m \u001b[0mpd\u001b[0m\u001b[0;34m.\u001b[0m\u001b[0mread_csv\u001b[0m\u001b[0;34m(\u001b[0m\u001b[0;34m'assets/train.csv'\u001b[0m\u001b[0;34m)\u001b[0m\u001b[0;34m\u001b[0m\u001b[0;34m\u001b[0m\u001b[0m\n\u001b[0m\u001b[1;32m      9\u001b[0m \u001b[0mtest_df\u001b[0m  \u001b[0;34m=\u001b[0m \u001b[0mpd\u001b[0m\u001b[0;34m.\u001b[0m\u001b[0mread_csv\u001b[0m\u001b[0;34m(\u001b[0m\u001b[0;34m'assets/test.csv'\u001b[0m\u001b[0;34m)\u001b[0m\u001b[0;34m\u001b[0m\u001b[0;34m\u001b[0m\u001b[0m\n\u001b[1;32m     10\u001b[0m \u001b[0maddresses_df\u001b[0m \u001b[0;34m=\u001b[0m \u001b[0mpd\u001b[0m\u001b[0;34m.\u001b[0m\u001b[0mread_csv\u001b[0m\u001b[0;34m(\u001b[0m\u001b[0;34m'assets/addresses.csv'\u001b[0m\u001b[0;34m)\u001b[0m\u001b[0;34m\u001b[0m\u001b[0;34m\u001b[0m\u001b[0m\n",
      "\u001b[0;31mNameError\u001b[0m: name 'pd' is not defined"
     ]
    }
   ],
   "source": [
    "from sklearn.linear_model import LogisticRegression\n",
    "from sklearn.preprocessing import OneHotEncoder\n",
    "from sklearn.metrics import roc_auc_score\n",
    "\n",
    "\n",
    "#import dataframes\n",
    "\n",
    "train_df = pd.read_csv('assets/train.csv')\n",
    "test_df  = pd.read_csv('assets/test.csv')\n",
    "addresses_df = pd.read_csv('assets/addresses.csv')\n",
    "latlong_df = pd.read_csv('assets/latlons.csv')\n",
    "\n",
    "\n",
    "#drop cases where outcome was Null\n",
    "\n",
    "train_df = train_df[train_df['compliance'].notna()]\n",
    "train_df \n",
    "\n",
    "###get only features we care about training\n",
    "\n",
    "train_df = train_df[['agency_name','judgment_amount','fine_amount','discount_amount','clean_up_cost','compliance']].reset_index()\n",
    "\n",
    "#one-hot encode agency_name\n",
    "\n",
    "\n",
    "enc = OneHotEncoder(handle_unknown = 'error')\n",
    "enc.fit(train_df[['agency_name']])\n",
    "\n",
    "enc_df = pd.DataFrame(enc.transform(train_df[['agency_name']]).toarray())\n",
    "\n",
    "train_df = train_df.join(enc_df)\n",
    "\n",
    "train_df.drop(['index','agency_name'],axis = 1, inplace = True)\n",
    "\n",
    "#define X_train, y_train\n",
    "y_train = train_df['compliance']\n",
    "\n",
    "train_df.drop(['compliance'],axis = 1, inplace = True)\n",
    "\n",
    "X_train = train_df\n",
    "\n",
    "###get only features we care about testing\n",
    "\n",
    "test_df = test_df[['ticket_id','agency_name','judgment_amount','fine_amount','discount_amount','clean_up_cost']].reset_index()\n",
    "\n",
    "#one-hot encode agency_name\n",
    "\n",
    "# enc = OneHotEncoder(handle_unknown = 'error')\n",
    "\n",
    "enc_df = pd.DataFrame(enc.transform(test_df[['agency_name']]).toarray())\n",
    "\n",
    "test_df = test_df.join(enc_df)\n",
    "\n",
    "ticket_ids = list(test_df['ticket_id'])\n",
    "\n",
    "test_df.drop(['index','agency_name','ticket_id'],axis = 1, inplace = True)\n",
    "\n",
    "\n",
    "X_test = test_df\n",
    "\n",
    "logreg = LogisticRegression().fit(X_train, y_train)\n",
    "\n",
    "preds = logreg.predict_proba(X_test)\n",
    "\n",
    "preds_paid = []\n",
    "\n",
    "for i in preds:\n",
    "    preds_paid.append(i[1])\n",
    "    \n",
    "preds_paid\n",
    "\n",
    "zipped = zip(ticket_ids,preds_paid)\n",
    "\n",
    "final = pd.DataFrame(zipped).set_index(0)\n",
    "\n",
    "final_s = pd.Series(final[1])\n",
    "final_s\n"
   ]
  },
  {
   "cell_type": "code",
   "execution_count": null,
   "metadata": {
    "deletable": false,
    "editable": false,
    "nbgrader": {
     "checksum": "0636b38a1a5bab9dc0c089e502664348",
     "grade": true,
     "grade_id": "cell-00f2e580e64299b2",
     "locked": true,
     "points": 0,
     "schema_version": 1,
     "solution": false
    }
   },
   "outputs": [],
   "source": [
    "# Autograder tests - sanity checks; no points for passing this cell\n",
    "\n",
    "stu_ans = blight_model()\n",
    "\n",
    "assert isinstance(stu_ans, pd.Series), \"Your function should return a pd.Series. \"\n",
    "assert len(stu_ans) == 61001, \"Your series is of incorrect length. \"\n"
   ]
  },
  {
   "cell_type": "code",
   "execution_count": null,
   "metadata": {},
   "outputs": [],
   "source": [
    "stu_ans = blight_model()\n",
    "stu_ans"
   ]
  },
  {
   "cell_type": "code",
   "execution_count": null,
   "metadata": {
    "deletable": false,
    "editable": false,
    "nbgrader": {
     "checksum": "638bd36bbabe9964b0668db452e90dc0",
     "grade": true,
     "grade_id": "cell-b75d744376ca0a85",
     "locked": true,
     "points": 14,
     "schema_version": 1,
     "solution": false
    }
   },
   "outputs": [],
   "source": [
    "# Hidden autograder tests - whether AUC >= 0.55\n"
   ]
  },
  {
   "cell_type": "code",
   "execution_count": null,
   "metadata": {
    "deletable": false,
    "editable": false,
    "nbgrader": {
     "checksum": "522adc2d5d47890d3bb263b0d88e113f",
     "grade": true,
     "grade_id": "cell-51c43ad464c6a07a",
     "locked": true,
     "points": 14,
     "schema_version": 1,
     "solution": false
    }
   },
   "outputs": [],
   "source": [
    "# Hidden autograder tests - whether AUC >= 0.6\n"
   ]
  },
  {
   "cell_type": "code",
   "execution_count": null,
   "metadata": {
    "deletable": false,
    "editable": false,
    "nbgrader": {
     "checksum": "fc44390e75e4a6f24e6e858a0dee3129",
     "grade": true,
     "grade_id": "cell-8013377ff7931f47",
     "locked": true,
     "points": 14,
     "schema_version": 1,
     "solution": false
    }
   },
   "outputs": [],
   "source": [
    "# Hidden autograder tests - whether AUC >= 0.65\n"
   ]
  },
  {
   "cell_type": "code",
   "execution_count": null,
   "metadata": {
    "deletable": false,
    "editable": false,
    "nbgrader": {
     "checksum": "0d07a6be49fe538514abe4e2b4ae19cd",
     "grade": true,
     "grade_id": "cell-ebe32e8d5f5255f3",
     "locked": true,
     "points": 14,
     "schema_version": 1,
     "solution": false
    }
   },
   "outputs": [],
   "source": [
    "# Hidden autograder tests - whether AUC >= 0.7\n"
   ]
  },
  {
   "cell_type": "code",
   "execution_count": null,
   "metadata": {
    "deletable": false,
    "editable": false,
    "nbgrader": {
     "checksum": "550d3f67dcc964d36260e419783e7a3b",
     "grade": true,
     "grade_id": "cell-ee59bccdda8ea14b",
     "locked": true,
     "points": 14,
     "schema_version": 1,
     "solution": false
    }
   },
   "outputs": [],
   "source": [
    "# Hidden autograder tests - whether AUC >= 0.75\n"
   ]
  }
 ],
 "metadata": {
  "anaconda-cloud": {},
  "coursera": {
   "schema_names": [
    "mads_supervised_learning_v2_assignment4"
   ]
  },
  "kernelspec": {
   "display_name": "Python 3 (ipykernel)",
   "language": "python",
   "name": "python3"
  },
  "language_info": {
   "codemirror_mode": {
    "name": "ipython",
    "version": 3
   },
   "file_extension": ".py",
   "mimetype": "text/x-python",
   "name": "python",
   "nbconvert_exporter": "python",
   "pygments_lexer": "ipython3",
   "version": "3.7.10"
  }
 },
 "nbformat": 4,
 "nbformat_minor": 2
}
